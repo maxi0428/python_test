{
 "cells": [
  {
   "cell_type": "code",
   "execution_count": 2,
   "metadata": {},
   "outputs": [],
   "source": [
    "import torch\n",
    "import torch.optim as optim"
   ]
  },
  {
   "cell_type": "code",
   "execution_count": 4,
   "metadata": {},
   "outputs": [
    {
     "name": "stdout",
     "output_type": "stream",
     "text": [
      "tensor([[1.],\n",
      "        [2.],\n",
      "        [3.],\n",
      "        [4.],\n",
      "        [5.]])\n",
      "tensor([[ 2.],\n",
      "        [ 4.],\n",
      "        [ 6.],\n",
      "        [ 8.],\n",
      "        [10.]])\n",
      "torch.Size([5, 1])\n",
      "torch.Size([5, 1])\n"
     ]
    }
   ],
   "source": [
    "x_train = torch.FloatTensor([[1],[2],[3],[4],[5]])\n",
    "y_train = torch.FloatTensor([[2],[4],[6],[8],[10]]) #y=2x\n",
    "print(x_train)\n",
    "print(y_train)\n",
    "print(x_train.size())\n",
    "print(y_train.size())"
   ]
  },
  {
   "cell_type": "code",
   "execution_count": 5,
   "metadata": {},
   "outputs": [
    {
     "name": "stdout",
     "output_type": "stream",
     "text": [
      "tensor([0.], requires_grad=True) tensor([0.], requires_grad=True)\n"
     ]
    }
   ],
   "source": [
    "w=torch.zeros(1, requires_grad=True)\n",
    "b=torch.zeros(1, requires_grad=True)\n",
    "print(w,b)"
   ]
  },
  {
   "cell_type": "code",
   "execution_count": 6,
   "metadata": {},
   "outputs": [
    {
     "name": "stdout",
     "output_type": "stream",
     "text": [
      "tensor([[0.],\n",
      "        [0.],\n",
      "        [0.],\n",
      "        [0.],\n",
      "        [0.]], grad_fn=<AddBackward0>)\n"
     ]
    }
   ],
   "source": [
    "h = x_train * w + b\n",
    "print(h)"
   ]
  },
  {
   "cell_type": "code",
   "execution_count": 7,
   "metadata": {},
   "outputs": [
    {
     "name": "stdout",
     "output_type": "stream",
     "text": [
      "epoch= 0 w= 0.4399999976158142 b= 0.11999999731779099 cost value= 44.0\n",
      "epoch= 100 w= 1.8987760543823242 b= 0.3654506504535675 cost value= 0.024474430829286575\n",
      "epoch= 200 w= 1.9278557300567627 b= 0.2604633867740631 cost value= 0.012432218529284\n",
      "epoch= 300 w= 1.9485814571380615 b= 0.18563701212406158 cost value= 0.006315155886113644\n",
      "epoch= 400 w= 1.963353157043457 b= 0.13230684399604797 cost value= 0.003207895439118147\n",
      "epoch= 500 w= 1.9738811254501343 b= 0.09429743140935898 cost value= 0.0016295012319460511\n",
      "epoch= 600 w= 1.9813846349716187 b= 0.06720750033855438 cost value= 0.0008277297019958496\n",
      "epoch= 700 w= 1.9867326021194458 b= 0.047899939119815826 cost value= 0.00042046388261951506\n",
      "epoch= 800 w= 1.990544080734253 b= 0.03413914889097214 cost value= 0.00021357598598115146\n",
      "epoch= 900 w= 1.9932606220245361 b= 0.024331560358405113 cost value= 0.0001084920804714784\n",
      "epoch= 1000 w= 1.9951967000961304 b= 0.01734166033565998 cost value= 5.511019844561815e-05\n",
      "epoch= 1100 w= 1.9965765476226807 b= 0.01235977653414011 cost value= 2.799425601551775e-05\n",
      "epoch= 1200 w= 1.9975600242614746 b= 0.008809009566903114 cost value= 1.4221371202438604e-05\n",
      "epoch= 1300 w= 1.9982609748840332 b= 0.006278469692915678 cost value= 7.22348613635404e-06\n",
      "epoch= 1400 w= 1.998760461807251 b= 0.004474927671253681 cost value= 3.6699159409181448e-06\n",
      "epoch= 1500 w= 1.9991164207458496 b= 0.0031895723659545183 cost value= 1.8641658243723214e-06\n",
      "epoch= 1600 w= 1.9993702173233032 b= 0.00227347481995821 cost value= 9.469671340411878e-07\n",
      "epoch= 1700 w= 1.9995510578155518 b= 0.0016206430736929178 cost value= 4.81425729503826e-07\n",
      "epoch= 1800 w= 1.9996799230575562 b= 0.0011552184587344527 cost value= 2.447357587698207e-07\n",
      "epoch= 1900 w= 1.9997719526290894 b= 0.0008235190762206912 cost value= 1.243543010787107e-07\n"
     ]
    }
   ],
   "source": [
    "optimizer=optim.SGD([w,b], lr=0.01)\n",
    "\n",
    "nb_epochs=2000\n",
    "\n",
    "for epoch in range(nb_epochs):\n",
    "    h = x_train * w + b\n",
    "    cost=torch.mean((h - y_train)**2)\n",
    "\n",
    "    optimizer.zero_grad()\n",
    "    cost.backward()\n",
    "    optimizer.step()\n",
    "    if epoch % 100 == 0:\n",
    "        print(\"epoch=\",epoch,\"w=\",w.item(),\"b=\",b.item(), \"cost value=\", cost.item())"
   ]
  }
 ],
 "metadata": {
  "kernelspec": {
   "display_name": "base",
   "language": "python",
   "name": "python3"
  },
  "language_info": {
   "codemirror_mode": {
    "name": "ipython",
    "version": 3
   },
   "file_extension": ".py",
   "mimetype": "text/x-python",
   "name": "python",
   "nbconvert_exporter": "python",
   "pygments_lexer": "ipython3",
   "version": "3.10.9"
  },
  "orig_nbformat": 4
 },
 "nbformat": 4,
 "nbformat_minor": 2
}
