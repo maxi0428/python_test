{
 "cells": [
  {
   "cell_type": "code",
   "execution_count": 31,
   "metadata": {},
   "outputs": [],
   "source": [
    "import pandas as pd\n",
    "import numpy as np\n",
    "import matplotlib.pyplot as plt\n",
    "from sklearn.preprocessing import MinMaxScaler"
   ]
  },
  {
   "cell_type": "code",
   "execution_count": 32,
   "metadata": {},
   "outputs": [
    {
     "data": {
      "text/html": [
       "<div>\n",
       "<style scoped>\n",
       "    .dataframe tbody tr th:only-of-type {\n",
       "        vertical-align: middle;\n",
       "    }\n",
       "\n",
       "    .dataframe tbody tr th {\n",
       "        vertical-align: top;\n",
       "    }\n",
       "\n",
       "    .dataframe thead th {\n",
       "        text-align: right;\n",
       "    }\n",
       "</style>\n",
       "<table border=\"1\" class=\"dataframe\">\n",
       "  <thead>\n",
       "    <tr style=\"text-align: right;\">\n",
       "      <th></th>\n",
       "      <th>Open</th>\n",
       "      <th>High</th>\n",
       "      <th>Low</th>\n",
       "      <th>Close</th>\n",
       "      <th>Volume</th>\n",
       "      <th>Adj Close</th>\n",
       "    </tr>\n",
       "    <tr>\n",
       "      <th>Date</th>\n",
       "      <th></th>\n",
       "      <th></th>\n",
       "      <th></th>\n",
       "      <th></th>\n",
       "      <th></th>\n",
       "      <th></th>\n",
       "    </tr>\n",
       "  </thead>\n",
       "  <tbody>\n",
       "    <tr>\n",
       "      <th>2022-05-17</th>\n",
       "      <td>66600.0</td>\n",
       "      <td>67900.0</td>\n",
       "      <td>66600.0</td>\n",
       "      <td>67600.0</td>\n",
       "      <td>15680447</td>\n",
       "      <td>65934.203125</td>\n",
       "    </tr>\n",
       "    <tr>\n",
       "      <th>2022-05-18</th>\n",
       "      <td>68300.0</td>\n",
       "      <td>68700.0</td>\n",
       "      <td>67600.0</td>\n",
       "      <td>68100.0</td>\n",
       "      <td>16486319</td>\n",
       "      <td>66421.882813</td>\n",
       "    </tr>\n",
       "    <tr>\n",
       "      <th>2022-05-19</th>\n",
       "      <td>66500.0</td>\n",
       "      <td>67600.0</td>\n",
       "      <td>66500.0</td>\n",
       "      <td>67500.0</td>\n",
       "      <td>17073727</td>\n",
       "      <td>65836.671875</td>\n",
       "    </tr>\n",
       "    <tr>\n",
       "      <th>2022-05-20</th>\n",
       "      <td>67800.0</td>\n",
       "      <td>68400.0</td>\n",
       "      <td>67700.0</td>\n",
       "      <td>68000.0</td>\n",
       "      <td>12109671</td>\n",
       "      <td>66324.343750</td>\n",
       "    </tr>\n",
       "    <tr>\n",
       "      <th>2022-05-23</th>\n",
       "      <td>68800.0</td>\n",
       "      <td>68800.0</td>\n",
       "      <td>67600.0</td>\n",
       "      <td>67900.0</td>\n",
       "      <td>13684088</td>\n",
       "      <td>66226.820313</td>\n",
       "    </tr>\n",
       "    <tr>\n",
       "      <th>...</th>\n",
       "      <td>...</td>\n",
       "      <td>...</td>\n",
       "      <td>...</td>\n",
       "      <td>...</td>\n",
       "      <td>...</td>\n",
       "      <td>...</td>\n",
       "    </tr>\n",
       "    <tr>\n",
       "      <th>2023-05-11</th>\n",
       "      <td>64700.0</td>\n",
       "      <td>65100.0</td>\n",
       "      <td>64200.0</td>\n",
       "      <td>64200.0</td>\n",
       "      <td>11648905</td>\n",
       "      <td>64200.000000</td>\n",
       "    </tr>\n",
       "    <tr>\n",
       "      <th>2023-05-12</th>\n",
       "      <td>63700.0</td>\n",
       "      <td>64600.0</td>\n",
       "      <td>63600.0</td>\n",
       "      <td>64100.0</td>\n",
       "      <td>8693913</td>\n",
       "      <td>64100.000000</td>\n",
       "    </tr>\n",
       "    <tr>\n",
       "      <th>2023-05-15</th>\n",
       "      <td>64100.0</td>\n",
       "      <td>64600.0</td>\n",
       "      <td>63900.0</td>\n",
       "      <td>64500.0</td>\n",
       "      <td>8172021</td>\n",
       "      <td>64500.000000</td>\n",
       "    </tr>\n",
       "    <tr>\n",
       "      <th>2023-05-16</th>\n",
       "      <td>65800.0</td>\n",
       "      <td>65900.0</td>\n",
       "      <td>65300.0</td>\n",
       "      <td>65400.0</td>\n",
       "      <td>12334657</td>\n",
       "      <td>65400.000000</td>\n",
       "    </tr>\n",
       "    <tr>\n",
       "      <th>2023-05-17</th>\n",
       "      <td>65900.0</td>\n",
       "      <td>65900.0</td>\n",
       "      <td>64800.0</td>\n",
       "      <td>65000.0</td>\n",
       "      <td>10745504</td>\n",
       "      <td>65000.000000</td>\n",
       "    </tr>\n",
       "  </tbody>\n",
       "</table>\n",
       "<p>249 rows × 6 columns</p>\n",
       "</div>"
      ],
      "text/plain": [
       "               Open     High      Low    Close    Volume     Adj Close\n",
       "Date                                                                  \n",
       "2022-05-17  66600.0  67900.0  66600.0  67600.0  15680447  65934.203125\n",
       "2022-05-18  68300.0  68700.0  67600.0  68100.0  16486319  66421.882813\n",
       "2022-05-19  66500.0  67600.0  66500.0  67500.0  17073727  65836.671875\n",
       "2022-05-20  67800.0  68400.0  67700.0  68000.0  12109671  66324.343750\n",
       "2022-05-23  68800.0  68800.0  67600.0  67900.0  13684088  66226.820313\n",
       "...             ...      ...      ...      ...       ...           ...\n",
       "2023-05-11  64700.0  65100.0  64200.0  64200.0  11648905  64200.000000\n",
       "2023-05-12  63700.0  64600.0  63600.0  64100.0   8693913  64100.000000\n",
       "2023-05-15  64100.0  64600.0  63900.0  64500.0   8172021  64500.000000\n",
       "2023-05-16  65800.0  65900.0  65300.0  65400.0  12334657  65400.000000\n",
       "2023-05-17  65900.0  65900.0  64800.0  65000.0  10745504  65000.000000\n",
       "\n",
       "[249 rows x 6 columns]"
      ]
     },
     "execution_count": 32,
     "metadata": {},
     "output_type": "execute_result"
    }
   ],
   "source": [
    "df=pd.read_csv('../data/005930.KS.csv')\n",
    "df=df.set_index(pd.to_datetime(df.Date))\n",
    "df=df[['Open','High','Low','Close','Volume','Adj Close']]\n",
    "df"
   ]
  },
  {
   "cell_type": "code",
   "execution_count": 33,
   "metadata": {},
   "outputs": [
    {
     "data": {
      "text/plain": [
       "Open         0\n",
       "High         0\n",
       "Low          0\n",
       "Close        0\n",
       "Volume       0\n",
       "Adj Close    0\n",
       "dtype: int64"
      ]
     },
     "execution_count": 33,
     "metadata": {},
     "output_type": "execute_result"
    }
   ],
   "source": [
    "df.isnull().sum() #null값 확인"
   ]
  },
  {
   "cell_type": "code",
   "execution_count": 34,
   "metadata": {},
   "outputs": [
    {
     "data": {
      "text/html": [
       "<div>\n",
       "<style scoped>\n",
       "    .dataframe tbody tr th:only-of-type {\n",
       "        vertical-align: middle;\n",
       "    }\n",
       "\n",
       "    .dataframe tbody tr th {\n",
       "        vertical-align: top;\n",
       "    }\n",
       "\n",
       "    .dataframe thead th {\n",
       "        text-align: right;\n",
       "    }\n",
       "</style>\n",
       "<table border=\"1\" class=\"dataframe\">\n",
       "  <thead>\n",
       "    <tr style=\"text-align: right;\">\n",
       "      <th></th>\n",
       "      <th>Open</th>\n",
       "      <th>High</th>\n",
       "      <th>Low</th>\n",
       "      <th>Close</th>\n",
       "      <th>Volume</th>\n",
       "      <th>Adj Close</th>\n",
       "    </tr>\n",
       "    <tr>\n",
       "      <th>Date</th>\n",
       "      <th></th>\n",
       "      <th></th>\n",
       "      <th></th>\n",
       "      <th></th>\n",
       "      <th></th>\n",
       "      <th></th>\n",
       "    </tr>\n",
       "  </thead>\n",
       "  <tbody>\n",
       "  </tbody>\n",
       "</table>\n",
       "</div>"
      ],
      "text/plain": [
       "Empty DataFrame\n",
       "Columns: [Open, High, Low, Close, Volume, Adj Close]\n",
       "Index: []"
      ]
     },
     "execution_count": 34,
     "metadata": {},
     "output_type": "execute_result"
    }
   ],
   "source": [
    "df.loc[df['Volume']==0]"
   ]
  },
  {
   "cell_type": "code",
   "execution_count": 35,
   "metadata": {},
   "outputs": [
    {
     "data": {
      "text/plain": [
       "Open         0\n",
       "High         0\n",
       "Low          0\n",
       "Close        0\n",
       "Volume       0\n",
       "Adj Close    0\n",
       "dtype: int64"
      ]
     },
     "execution_count": 35,
     "metadata": {},
     "output_type": "execute_result"
    }
   ],
   "source": [
    "df['Volume']=df['Volume'].replace(0,np.nan)\n",
    "df.isnull().sum()"
   ]
  },
  {
   "cell_type": "code",
   "execution_count": 36,
   "metadata": {},
   "outputs": [
    {
     "data": {
      "text/plain": [
       "Open         0\n",
       "High         0\n",
       "Low          0\n",
       "Close        0\n",
       "Volume       0\n",
       "Adj Close    0\n",
       "dtype: int64"
      ]
     },
     "execution_count": 36,
     "metadata": {},
     "output_type": "execute_result"
    }
   ],
   "source": [
    "df=df.dropna()\n",
    "df.isnull().sum()"
   ]
  },
  {
   "cell_type": "code",
   "execution_count": 37,
   "metadata": {},
   "outputs": [
    {
     "data": {
      "text/html": [
       "<div>\n",
       "<style scoped>\n",
       "    .dataframe tbody tr th:only-of-type {\n",
       "        vertical-align: middle;\n",
       "    }\n",
       "\n",
       "    .dataframe tbody tr th {\n",
       "        vertical-align: top;\n",
       "    }\n",
       "\n",
       "    .dataframe thead th {\n",
       "        text-align: right;\n",
       "    }\n",
       "</style>\n",
       "<table border=\"1\" class=\"dataframe\">\n",
       "  <thead>\n",
       "    <tr style=\"text-align: right;\">\n",
       "      <th></th>\n",
       "      <th>Open</th>\n",
       "      <th>High</th>\n",
       "      <th>Low</th>\n",
       "      <th>Close</th>\n",
       "      <th>Volume</th>\n",
       "      <th>Adj Close</th>\n",
       "    </tr>\n",
       "    <tr>\n",
       "      <th>Date</th>\n",
       "      <th></th>\n",
       "      <th></th>\n",
       "      <th></th>\n",
       "      <th></th>\n",
       "      <th></th>\n",
       "      <th></th>\n",
       "    </tr>\n",
       "  </thead>\n",
       "  <tbody>\n",
       "    <tr>\n",
       "      <th>2022-05-17</th>\n",
       "      <td>66600.0</td>\n",
       "      <td>67900.0</td>\n",
       "      <td>66600.0</td>\n",
       "      <td>67600.0</td>\n",
       "      <td>15680447</td>\n",
       "      <td>65934.203125</td>\n",
       "    </tr>\n",
       "    <tr>\n",
       "      <th>2022-05-18</th>\n",
       "      <td>68300.0</td>\n",
       "      <td>68700.0</td>\n",
       "      <td>67600.0</td>\n",
       "      <td>68100.0</td>\n",
       "      <td>16486319</td>\n",
       "      <td>66421.882813</td>\n",
       "    </tr>\n",
       "    <tr>\n",
       "      <th>2022-05-19</th>\n",
       "      <td>66500.0</td>\n",
       "      <td>67600.0</td>\n",
       "      <td>66500.0</td>\n",
       "      <td>67500.0</td>\n",
       "      <td>17073727</td>\n",
       "      <td>65836.671875</td>\n",
       "    </tr>\n",
       "    <tr>\n",
       "      <th>2022-05-20</th>\n",
       "      <td>67800.0</td>\n",
       "      <td>68400.0</td>\n",
       "      <td>67700.0</td>\n",
       "      <td>68000.0</td>\n",
       "      <td>12109671</td>\n",
       "      <td>66324.343750</td>\n",
       "    </tr>\n",
       "    <tr>\n",
       "      <th>2022-05-23</th>\n",
       "      <td>68800.0</td>\n",
       "      <td>68800.0</td>\n",
       "      <td>67600.0</td>\n",
       "      <td>67900.0</td>\n",
       "      <td>13684088</td>\n",
       "      <td>66226.820313</td>\n",
       "    </tr>\n",
       "    <tr>\n",
       "      <th>...</th>\n",
       "      <td>...</td>\n",
       "      <td>...</td>\n",
       "      <td>...</td>\n",
       "      <td>...</td>\n",
       "      <td>...</td>\n",
       "      <td>...</td>\n",
       "    </tr>\n",
       "    <tr>\n",
       "      <th>2023-05-11</th>\n",
       "      <td>64700.0</td>\n",
       "      <td>65100.0</td>\n",
       "      <td>64200.0</td>\n",
       "      <td>64200.0</td>\n",
       "      <td>11648905</td>\n",
       "      <td>64200.000000</td>\n",
       "    </tr>\n",
       "    <tr>\n",
       "      <th>2023-05-12</th>\n",
       "      <td>63700.0</td>\n",
       "      <td>64600.0</td>\n",
       "      <td>63600.0</td>\n",
       "      <td>64100.0</td>\n",
       "      <td>8693913</td>\n",
       "      <td>64100.000000</td>\n",
       "    </tr>\n",
       "    <tr>\n",
       "      <th>2023-05-15</th>\n",
       "      <td>64100.0</td>\n",
       "      <td>64600.0</td>\n",
       "      <td>63900.0</td>\n",
       "      <td>64500.0</td>\n",
       "      <td>8172021</td>\n",
       "      <td>64500.000000</td>\n",
       "    </tr>\n",
       "    <tr>\n",
       "      <th>2023-05-16</th>\n",
       "      <td>65800.0</td>\n",
       "      <td>65900.0</td>\n",
       "      <td>65300.0</td>\n",
       "      <td>65400.0</td>\n",
       "      <td>12334657</td>\n",
       "      <td>65400.000000</td>\n",
       "    </tr>\n",
       "    <tr>\n",
       "      <th>2023-05-17</th>\n",
       "      <td>65900.0</td>\n",
       "      <td>65900.0</td>\n",
       "      <td>64800.0</td>\n",
       "      <td>65000.0</td>\n",
       "      <td>10745504</td>\n",
       "      <td>65000.000000</td>\n",
       "    </tr>\n",
       "  </tbody>\n",
       "</table>\n",
       "<p>249 rows × 6 columns</p>\n",
       "</div>"
      ],
      "text/plain": [
       "               Open     High      Low    Close    Volume     Adj Close\n",
       "Date                                                                  \n",
       "2022-05-17  66600.0  67900.0  66600.0  67600.0  15680447  65934.203125\n",
       "2022-05-18  68300.0  68700.0  67600.0  68100.0  16486319  66421.882813\n",
       "2022-05-19  66500.0  67600.0  66500.0  67500.0  17073727  65836.671875\n",
       "2022-05-20  67800.0  68400.0  67700.0  68000.0  12109671  66324.343750\n",
       "2022-05-23  68800.0  68800.0  67600.0  67900.0  13684088  66226.820313\n",
       "...             ...      ...      ...      ...       ...           ...\n",
       "2023-05-11  64700.0  65100.0  64200.0  64200.0  11648905  64200.000000\n",
       "2023-05-12  63700.0  64600.0  63600.0  64100.0   8693913  64100.000000\n",
       "2023-05-15  64100.0  64600.0  63900.0  64500.0   8172021  64500.000000\n",
       "2023-05-16  65800.0  65900.0  65300.0  65400.0  12334657  65400.000000\n",
       "2023-05-17  65900.0  65900.0  64800.0  65000.0  10745504  65000.000000\n",
       "\n",
       "[249 rows x 6 columns]"
      ]
     },
     "execution_count": 37,
     "metadata": {},
     "output_type": "execute_result"
    }
   ],
   "source": [
    "df"
   ]
  },
  {
   "cell_type": "code",
   "execution_count": 38,
   "metadata": {},
   "outputs": [
    {
     "data": {
      "image/png": "[encoded data removed]",
      "text/plain": [
       "<Figure size 640x480 with 1 Axes>"
      ]
     },
     "metadata": {},
     "output_type": "display_data"
    }
   ],
   "source": [
    "pig=df['Adj Close'].plot()"
   ]
  },
  {
   "cell_type": "code",
   "execution_count": 39,
   "metadata": {},
   "outputs": [
    {
     "name": "stdout",
     "output_type": "stream",
     "text": [
      "(199, 6) (57, 6)\n"
     ]
    }
   ],
   "source": [
    "seq_length=7\n",
    "batch_size=100\n",
    "\n",
    "df=df[::-1]\n",
    "\n",
    "train_size=int(df.shape[0]*0.8)\n",
    "train_set=df[0:train_size]\n",
    "test_set=df[train_size-seq_length:]\n",
    "print(train_set.shape, test_set.shape)"
   ]
  },
  {
   "cell_type": "code",
   "execution_count": 43,
   "metadata": {},
   "outputs": [
    {
     "name": "stderr",
     "output_type": "stream",
     "text": [
      "C:\\Users\\admin\\AppData\\Local\\Temp\\ipykernel_9236\\1877531814.py:6: SettingWithCopyWarning: \n",
      "A value is trying to be set on a copy of a slice from a DataFrame.\n",
      "Try using .loc[row_indexer,col_indexer] = value instead\n",
      "\n",
      "See the caveats in the documentation: https://pandas.pydata.org/pandas-docs/stable/user_guide/indexing.html#returning-a-view-versus-a-copy\n",
      "  train_set.iloc[:,:-1]= scaler_x.transform(train_set.iloc[:,:-1])\n",
      "C:\\Users\\admin\\AppData\\Local\\Temp\\ipykernel_9236\\1877531814.py:7: SettingWithCopyWarning: \n",
      "A value is trying to be set on a copy of a slice from a DataFrame.\n",
      "Try using .loc[row_indexer,col_indexer] = value instead\n",
      "\n",
      "See the caveats in the documentation: https://pandas.pydata.org/pandas-docs/stable/user_guide/indexing.html#returning-a-view-versus-a-copy\n",
      "  test_set.iloc[:,:-1]= scaler_x.transform(test_set.iloc[:,:-1])\n",
      "C:\\Users\\admin\\AppData\\Local\\Temp\\ipykernel_9236\\1877531814.py:7: DeprecationWarning: In a future version, `df.iloc[:, i] = newvals` will attempt to set the values inplace instead of always setting a new array. To retain the old behavior, use either `df[df.columns[i]] = newvals` or, if columns are non-unique, `df.isetitem(i, newvals)`\n",
      "  test_set.iloc[:,:-1]= scaler_x.transform(test_set.iloc[:,:-1])\n",
      "C:\\Users\\admin\\AppData\\Local\\Temp\\ipykernel_9236\\1877531814.py:13: SettingWithCopyWarning: \n",
      "A value is trying to be set on a copy of a slice from a DataFrame.\n",
      "Try using .loc[row_indexer,col_indexer] = value instead\n",
      "\n",
      "See the caveats in the documentation: https://pandas.pydata.org/pandas-docs/stable/user_guide/indexing.html#returning-a-view-versus-a-copy\n",
      "  train_set.iloc[:,-1]= scaler_y.transform(train_set.iloc[:,[-1]])\n",
      "C:\\Users\\admin\\AppData\\Local\\Temp\\ipykernel_9236\\1877531814.py:14: SettingWithCopyWarning: \n",
      "A value is trying to be set on a copy of a slice from a DataFrame.\n",
      "Try using .loc[row_indexer,col_indexer] = value instead\n",
      "\n",
      "See the caveats in the documentation: https://pandas.pydata.org/pandas-docs/stable/user_guide/indexing.html#returning-a-view-versus-a-copy\n",
      "  test_set.iloc[:,-1]= scaler_y.transform(test_set.iloc[:,[-1]])\n"
     ]
    }
   ],
   "source": [
    "# 데이터 스케일링\n",
    "# Input scale\n",
    "scaler_x=MinMaxScaler()\n",
    "scaler_x.fit(train_set.iloc[:,:-1])\n",
    "\n",
    "train_set.iloc[:,:-1]= scaler_x.transform(train_set.iloc[:,:-1])\n",
    "test_set.iloc[:,:-1]= scaler_x.transform(test_set.iloc[:,:-1])\n",
    "\n",
    "#output scale\n",
    "scaler_y=MinMaxScaler()\n",
    "scaler_y.fit(train_set.iloc[:,[-1]])\n",
    "\n",
    "train_set.iloc[:,-1]= scaler_y.transform(train_set.iloc[:,[-1]])\n",
    "test_set.iloc[:,-1]= scaler_y.transform(test_set.iloc[:,[-1]])"
   ]
  },
  {
   "cell_type": "code",
   "execution_count": 44,
   "metadata": {},
   "outputs": [],
   "source": [
    "import torch\n",
    "import torch.nn as nn\n",
    "import torch.functional as F\n",
    "import torch.optim as optim\n",
    "from torch.utils.data import TensorDataset\n",
    "from torch.utils.data import DataLoader"
   ]
  },
  {
   "cell_type": "code",
   "execution_count": 45,
   "metadata": {},
   "outputs": [],
   "source": [
    "device = torch.device('cuda:0' if torch.cuda.is_available() else 'cpu')\n",
    "torch.manual_seed(125)\n",
    "if torch.cuda.is_available() :\n",
    "    torch.cuda.manual_seed_all(125)"
   ]
  },
  {
   "cell_type": "code",
   "execution_count": 48,
   "metadata": {},
   "outputs": [],
   "source": [
    "def build_dataset(time_series, seq_length):\n",
    "    dataX=[]\n",
    "    dataY=[]\n",
    "\n",
    "    for i in range(0, len(time_series)-seq_length):\n",
    "        _x=time_series[i:i+seq_length, :]\n",
    "        _y=time_series[i+seq_length, [-1]]\n",
    "        # print(_x, _y)\n",
    "        dataX.append(_x)\n",
    "        dataY.append(_y)\n",
    "    return np.array(dataX), np.array(dataY)"
   ]
  },
  {
   "cell_type": "code",
   "execution_count": 49,
   "metadata": {},
   "outputs": [],
   "source": [
    "trainX, trainY=build_dataset(np.array(train_set), seq_length)\n",
    "testX, testY=build_dataset(np.array(test_set), seq_length)"
   ]
  },
  {
   "cell_type": "code",
   "execution_count": 50,
   "metadata": {},
   "outputs": [],
   "source": [
    "trainX_tensor=torch.FloatTensor(trainX)\n",
    "trainY_tensor=torch.FloatTensor(trainY)\n",
    "\n",
    "testX_tensor=torch.FloatTensor(testX)\n",
    "testY_tensor=torch.FloatTensor(testY)\n",
    "\n",
    "train_dataset=TensorDataset(trainX_tensor, trainY_tensor)\n",
    "train_dataload=DataLoader(train_dataset, batch_size=batch_size, shuffle=True, drop_last=True)\n",
    "\n",
    "test_dataset=TensorDataset(testX_tensor, testY_tensor)\n",
    "test_dataload=DataLoader(test_dataset, batch_size=batch_size, shuffle=True, drop_last=True)"
   ]
  },
  {
   "cell_type": "code",
   "execution_count": 51,
   "metadata": {},
   "outputs": [],
   "source": [
    "data_dim=6 #입력데이터 갯수\n",
    "hidden_dim=10\n",
    "output_dim=1\n",
    "learning_rate=0.01\n",
    "n_epochs=100\n"
   ]
  },
  {
   "cell_type": "code",
   "execution_count": 52,
   "metadata": {},
   "outputs": [],
   "source": [
    "class Net(nn.Module):\n",
    "    def __init__(self,input_dim, hidden_dim, seq_len, output_dim, layers):\n",
    "        super(Net, self).__init__()\n",
    "        self.hidden_dim=hidden_dim\n",
    "        self.seq_len=seq_len\n",
    "        self.output_dim=output_dim\n",
    "        self.layers=layers\n",
    "\n",
    "        self.lstm=nn.LSTM(input_dim, hidden_dim, num_layers=layers, batch_first=True)\n",
    "        self.fc=nn.Linear(hidden_dim, output_dim, bias=True)\n",
    "\n",
    "    #학습 초기화를 위한 함수\n",
    "    def reset_hidden_state(self):\n",
    "        self.hidden=(\n",
    "            torch.zeros(self.layers, self.seq_len, self.hidden_dim),\n",
    "            torch.zeros(self.layers, self.seq_len, self.hidden_dim)\n",
    "        )\n",
    "    \n",
    "    def forward(self, x):\n",
    "        x, _status=self.lstm(x)\n",
    "        x=self.fc(x[:,-1])\n",
    "        return x"
   ]
  },
  {
   "cell_type": "code",
   "execution_count": 59,
   "metadata": {},
   "outputs": [],
   "source": [
    "def train_model(model, train_df, num_epochs=None, lr=None, verbos=10, patience=10):\n",
    "    criterion=nn.MSELoss().to(device)\n",
    "    optimizer=optim.Adam(model.parameters(), lr=learning_rate)\n",
    "    nb_epochs=num_epochs\n",
    "\n",
    "    # epoch마다 loss저장\n",
    "    train_hist=np.zeros(n_epochs)\n",
    "    \n",
    "    for epoch in range(nb_epochs):\n",
    "        avg_cost=0\n",
    "        total_batch=len(train_df)\n",
    "\n",
    "        for batch_idx, samples in enumerate(train_df):\n",
    "            x_train, y_train=samples\n",
    "\n",
    "            model.reset_hidden_state()\n",
    "            outputs=model(x_train)\n",
    "            loss=criterion(outputs, y_train)\n",
    "            \n",
    "            optimizer.zero_grad()\n",
    "            loss.backward()\n",
    "            optimizer.step()\n",
    "\n",
    "            avg_cost+=loss/total_batch\n",
    "\n",
    "        train_hist[epoch]=avg_cost\n",
    "\n",
    "        if epoch % verbos==0:\n",
    "            print('Epoch : ', '%04d' %(epoch), 'train loss', '{:.4f}'.format(avg_cost))\n",
    "        if (epoch % patience == 0) & (epoch !=0):\n",
    "            if train_hist[epoch-patience] < train_hist[epoch]:\n",
    "                print('\\n Earay Stopping')\n",
    "                break\n",
    "    return model.eval(), train_hist\n",
    "\n"
   ]
  },
  {
   "cell_type": "code",
   "execution_count": 60,
   "metadata": {},
   "outputs": [
    {
     "name": "stdout",
     "output_type": "stream",
     "text": [
      "Epoch :  0000 train loss 0.4967\n",
      "Epoch :  0020 train loss 0.0293\n",
      "Epoch :  0040 train loss 0.0188\n",
      "Epoch :  0060 train loss 0.0065\n",
      "Epoch :  0080 train loss 0.0035\n",
      "\n",
      " Earay Stopping\n"
     ]
    },
    {
     "data": {
      "image/png": "[encoded data removed]",
      "text/plain": [
       "<Figure size 1000x400 with 1 Axes>"
      ]
     },
     "metadata": {},
     "output_type": "display_data"
    }
   ],
   "source": [
    "net=Net(data_dim, hidden_dim, seq_length, output_dim, 1).to(device)\n",
    "model, train_hist=train_model(net, train_dataload, num_epochs=n_epochs, lr=learning_rate, verbos=20, patience=10)\n",
    "\n",
    "fig=plt.figure(figsize=(10,4))\n",
    "plt.plot(train_hist, label='Training loss')\n",
    "plt.legend('best')\n",
    "plt.show()"
   ]
  },
  {
   "cell_type": "code",
   "execution_count": 61,
   "metadata": {},
   "outputs": [
    {
     "data": {
      "text/plain": [
       "Net(\n",
       "  (lstm): LSTM(6, 10, batch_first=True)\n",
       "  (fc): Linear(in_features=10, out_features=1, bias=True)\n",
       ")"
      ]
     },
     "execution_count": 61,
     "metadata": {},
     "output_type": "execute_result"
    }
   ],
   "source": [
    "PATH='../data/lstm_005930_KS.pth'\n",
    "torch.save(model.state_dict(), PATH)\n",
    "\n",
    "model=Net(data_dim, hidden_dim, seq_length, output_dim, 1).to(device)\n",
    "model.load_state_dict(torch.load(PATH), strict=False)\n",
    "model.eval()"
   ]
  },
  {
   "cell_type": "code",
   "execution_count": 62,
   "metadata": {},
   "outputs": [
    {
     "name": "stdout",
     "output_type": "stream",
     "text": [
      "MAE SCORE: 8955.791912302902\n"
     ]
    }
   ],
   "source": [
    "with torch.no_grad():\n",
    "    pred=[]\n",
    "    for pr in range(len(testX_tensor)):\n",
    "        model.reset_hidden_state()\n",
    "\n",
    "        predicted=model(torch.unsqueeze(testX_tensor[pr], 0))\n",
    "        predicted=torch.flatten(predicted).item()\n",
    "        pred.append(predicted)\n",
    "\n",
    "    pred_inverse=scaler_y.inverse_transform(np.array(pred).reshape(-1,1))\n",
    "    testY_inverse=scaler_y.inverse_transform(testY_tensor)\n",
    "\n",
    "def MAE(true, pred):\n",
    "    return np.mean(np.abs(true-pred))\n",
    "\n",
    "print('MAE SCORE:', MAE(pred_inverse,testY_inverse))"
   ]
  },
  {
   "cell_type": "code",
   "execution_count": 70,
   "metadata": {},
   "outputs": [
    {
     "name": "stdout",
     "output_type": "stream",
     "text": [
      "[[51453.89991989]\n",
      " [51453.89991989]\n",
      " [51453.89991989]\n",
      " [51453.89991989]\n",
      " [51453.89991989]\n",
      " [51453.89991989]\n",
      " [51453.89991989]\n",
      " [51453.89991989]\n",
      " [51453.89991989]\n",
      " [51453.89991989]\n",
      " [51453.89991989]\n",
      " [51453.89991989]\n",
      " [51453.89991989]\n",
      " [51453.89991989]\n",
      " [51453.89991989]\n",
      " [51453.89991989]\n",
      " [51453.89991989]\n",
      " [51453.89991989]\n",
      " [51453.89991989]\n",
      " [51453.89991989]\n",
      " [51453.89991989]\n",
      " [51453.89991989]\n",
      " [51453.89991989]\n",
      " [51453.89991989]\n",
      " [51453.89991989]\n",
      " [51453.89991989]\n",
      " [51453.89991989]\n",
      " [51453.89991989]\n",
      " [51453.89991989]\n",
      " [51453.89991989]\n",
      " [51453.89991989]\n",
      " [51453.89991989]\n",
      " [51453.89991989]\n",
      " [51453.89991989]\n",
      " [51453.89991989]\n",
      " [51453.89991989]\n",
      " [51453.89991989]\n",
      " [51453.89991989]\n",
      " [51453.89991989]\n",
      " [51453.89991989]\n",
      " [51453.89991989]\n",
      " [51453.89991989]\n",
      " [51453.89991989]\n",
      " [51453.89991989]\n",
      " [51453.89991989]\n",
      " [51453.89991989]\n",
      " [51453.89991989]\n",
      " [51453.89991989]\n",
      " [51453.89991989]\n",
      " [51453.89991989]]\n"
     ]
    }
   ],
   "source": [
    "# print(testY_inverse)\n",
    "print(pred_inverse)"
   ]
  },
  {
   "cell_type": "code",
   "execution_count": 74,
   "metadata": {},
   "outputs": [
    {
     "data": {
      "text/plain": [
       "Text(0.5, 1.0, 'Prediction result')"
      ]
     },
     "execution_count": 74,
     "metadata": {},
     "output_type": "execute_result"
    },
    {
     "data": {
      "image/png": "[encoded data removed]",
      "text/plain": [
       "<Figure size 800x300 with 1 Axes>"
      ]
     },
     "metadata": {},
     "output_type": "display_data"
    }
   ],
   "source": [
    "fig=plt.figure(figsize=(8,3))\n",
    "# plt.plot(np.arange(len(pred_inverse)), pred_inverse, label='pred')\n",
    "plt.plot(pred_inverse, label='pred')\n",
    "# plt.plot(np.arange(len(testY_inverse)), testY_inverse, label='true')\n",
    "plt.plot(testY_inverse, label='true')\n",
    "plt.legend('best')\n",
    "plt.title('Prediction result')\n",
    "# plt.show()"
   ]
  },
  {
   "cell_type": "code",
   "execution_count": 75,
   "metadata": {},
   "outputs": [],
   "source": [
    "class GRU(nn.Module):\n",
    "    def __init__(self, input_dim, hidden_dim, seq_len, output_dim, layers):\n",
    "        super(GRU, self).__init__()\n",
    "        self.num_classes=output_dim\n",
    "        self.num_layers = layers\n",
    "        self.input_size = input_dim\n",
    "        self.hidden_size = hidden_dim\n",
    "        self.seq_length = seq_len\n",
    "\n",
    "        self.gru=nn.GRU(input_size=input_dim,hidden_size=hidden_dim,num_layers=layers,batch_first=True)\n",
    "        self.fc_1=nn.Linear(hidden_dim,128)\n",
    "        self.fc=nn.Linear(128, output_dim)\n",
    "        self.relu=nn.ReLU()\n",
    "\n",
    "    \n",
    "\n",
    "       \n",
    "    def forward(self, x):\n",
    "        h_0 = torch.zeros(self.num_layers, x.size(0), self.hidden_size)\n",
    "        output, (hn)= self.gru(x,(h_0))\n",
    "        hn = hn.view(-1, self.hidden_size)\n",
    "        out = self.relu(hn)\n",
    "        out = self.fc_1(out)\n",
    "        out= self.relu(out)\n",
    "        out= self.fc(out)\n",
    "        return out"
   ]
  },
  {
   "cell_type": "code",
   "execution_count": 76,
   "metadata": {},
   "outputs": [],
   "source": [
    "def train_model(model, train_df, num_epochs=None, lr=None, verbos=10, patience=10):\n",
    "    criterion=nn.MSELoss().to(device)\n",
    "    optimizer=optim.Adam(model.parameters(), lr=learning_rate)\n",
    "    nb_epochs=num_epochs\n",
    "\n",
    "    # epoch마다 loss저장\n",
    "    train_hist=np.zeros(n_epochs)\n",
    "    \n",
    "    for epoch in range(nb_epochs):\n",
    "        avg_cost=0\n",
    "        total_batch=len(train_df)\n",
    "\n",
    "        for batch_idx, samples in enumerate(train_df):\n",
    "            x_train, y_train=samples\n",
    "\n",
    "            # model.reset_hidden_state()\n",
    "            outputs=model(x_train)\n",
    "            loss=criterion(outputs, y_train)\n",
    "            \n",
    "            optimizer.zero_grad()\n",
    "            loss.backward()\n",
    "            optimizer.step()\n",
    "\n",
    "            avg_cost+=loss/total_batch\n",
    "\n",
    "        train_hist[epoch]=avg_cost\n",
    "\n",
    "        if epoch % verbos==0:\n",
    "            print('Epoch : ', '%04d' %(epoch), 'train loss', '{:.4f}'.format(avg_cost))\n",
    "        if (epoch % patience == 0) & (epoch !=0):\n",
    "            if train_hist[epoch-patience] < train_hist[epoch]:\n",
    "                print('\\n Earay Stopping')\n",
    "                break\n",
    "    return model.eval(), train_hist\n",
    "\n"
   ]
  },
  {
   "cell_type": "code",
   "execution_count": 77,
   "metadata": {},
   "outputs": [
    {
     "name": "stdout",
     "output_type": "stream",
     "text": [
      "Epoch :  0000 train loss 0.1760\n",
      "Epoch :  0020 train loss 0.0070\n",
      "Epoch :  0040 train loss 0.0031\n",
      "\n",
      " Earay Stopping\n"
     ]
    },
    {
     "data": {
      "image/png": "[encoded data removed]",
      "text/plain": [
       "<Figure size 1000x400 with 1 Axes>"
      ]
     },
     "metadata": {},
     "output_type": "display_data"
    }
   ],
   "source": [
    "net=GRU(data_dim, hidden_dim, seq_length, output_dim, 1).to(device)\n",
    "model, train_hist=train_model(net, train_dataload, num_epochs=n_epochs, lr=learning_rate, verbos=20, patience=10)\n",
    "\n",
    "fig=plt.figure(figsize=(10,4))\n",
    "plt.plot(train_hist, label='Training loss')\n",
    "plt.legend('best')\n",
    "plt.show()"
   ]
  },
  {
   "cell_type": "code",
   "execution_count": 80,
   "metadata": {},
   "outputs": [
    {
     "data": {
      "text/plain": [
       "GRU(\n",
       "  (gru): GRU(6, 10, batch_first=True)\n",
       "  (fc_1): Linear(in_features=10, out_features=128, bias=True)\n",
       "  (fc): Linear(in_features=128, out_features=1, bias=True)\n",
       "  (relu): ReLU()\n",
       ")"
      ]
     },
     "execution_count": 80,
     "metadata": {},
     "output_type": "execute_result"
    }
   ],
   "source": [
    "PATH_GRU='../data/GRU_stock1.pth'\n",
    "torch.save(model.state_dict(), PATH_GRU)\n",
    "\n",
    "model=GRU(data_dim, hidden_dim, seq_length, output_dim, 1).to(device)\n",
    "model.load_state_dict(torch.load(PATH_GRU), strict=False)\n",
    "model.eval()"
   ]
  },
  {
   "cell_type": "code",
   "execution_count": 81,
   "metadata": {},
   "outputs": [
    {
     "data": {
      "text/plain": [
       "Text(0.5, 1.0, 'Prediction result')"
      ]
     },
     "execution_count": 81,
     "metadata": {},
     "output_type": "execute_result"
    },
    {
     "data": {
      "image/png": "[encoded data removed]",
      "text/plain": [
       "<Figure size 800x300 with 1 Axes>"
      ]
     },
     "metadata": {},
     "output_type": "display_data"
    }
   ],
   "source": [
    "fig=plt.figure(figsize=(8,3))\n",
    "plt.plot(np.arange(len(pred_inverse)), pred_inverse, label='pred')\n",
    "# plt.plot(pred_inverse, label='pred')\n",
    "plt.plot(np.arange(len(testY_inverse)), testY_inverse, label='true')\n",
    "# plt.plot(testY_inverse, label='true')\n",
    "plt.legend('best')\n",
    "plt.title('Prediction result')\n",
    "# plt.show()"
   ]
  }
 ],
 "metadata": {
  "kernelspec": {
   "display_name": "base",
   "language": "python",
   "name": "python3"
  },
  "language_info": {
   "codemirror_mode": {
    "name": "ipython",
    "version": 3
   },
   "file_extension": ".py",
   "mimetype": "text/x-python",
   "name": "python",
   "nbconvert_exporter": "python",
   "pygments_lexer": "ipython3",
   "version": "3.10.9"
  },
  "orig_nbformat": 4
 },
 "nbformat": 4,
 "nbformat_minor": 2
}
