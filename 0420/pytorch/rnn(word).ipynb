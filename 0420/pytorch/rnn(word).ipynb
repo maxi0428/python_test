{
 "cells": [
  {
   "cell_type": "code",
   "execution_count": 1,
   "metadata": {},
   "outputs": [],
   "source": [
    "import torch\n",
    "import torch.nn as nn\n",
    "import torch.optim as optim\n",
    "import numpy as np\n"
   ]
  },
  {
   "cell_type": "code",
   "execution_count": 2,
   "metadata": {},
   "outputs": [
    {
     "name": "stdout",
     "output_type": "stream",
     "text": [
      "['for', 'Repeat', 'is', 'memory', 'medicine', 'best', 'the']\n"
     ]
    }
   ],
   "source": [
    "sentence=\"Repeat is the best medicine for memory\".split()\n",
    "vocab = list(set(sentence))\n",
    "print(vocab)"
   ]
  },
  {
   "cell_type": "code",
   "execution_count": 4,
   "metadata": {},
   "outputs": [
    {
     "name": "stdout",
     "output_type": "stream",
     "text": [
      "{'for': 1, 'Repeat': 2, 'is': 3, 'memory': 4, 'medicine': 5, 'best': 6, 'the': 7, '<unk>': 0}\n"
     ]
    }
   ],
   "source": [
    "word2index={tkn:i for i, tkn in enumerate(vocab,1)}\n",
    "word2index['<unk>']=0\n",
    "print(word2index)"
   ]
  },
  {
   "cell_type": "code",
   "execution_count": 5,
   "metadata": {},
   "outputs": [
    {
     "name": "stdout",
     "output_type": "stream",
     "text": [
      "6\n"
     ]
    }
   ],
   "source": [
    "print(word2index['best'])"
   ]
  },
  {
   "cell_type": "code",
   "execution_count": 7,
   "metadata": {},
   "outputs": [
    {
     "name": "stdout",
     "output_type": "stream",
     "text": [
      "{1: 'for', 2: 'Repeat', 3: 'is', 4: 'memory', 5: 'medicine', 6: 'best', 7: 'the', 0: '<unk>'}\n",
      "is\n"
     ]
    }
   ],
   "source": [
    "index2word={v:k for k,v in word2index.items()}\n",
    "print(index2word)\n",
    "print(index2word[3])"
   ]
  },
  {
   "cell_type": "code",
   "execution_count": 13,
   "metadata": {},
   "outputs": [],
   "source": [
    "def build_data(sentence, word2index):\n",
    "    encoded=[word2index[token] for token in sentence]\n",
    "    #print(encoded)\n",
    "    input_seq, label_seq=encoded[:-1], encoded[1:]\n",
    "    #print(input_seq)\n",
    "    #print(label_seq)\n",
    "    input_seq=torch.LongTensor(input_seq).unsqueeze(0) # 차원추가\n",
    "    label_seq=torch.LongTensor(label_seq).unsqueeze(0)\n",
    "    return input_seq, label_seq\n"
   ]
  },
  {
   "cell_type": "code",
   "execution_count": 14,
   "metadata": {},
   "outputs": [],
   "source": [
    "X, Y=build_data(sentence, word2index)"
   ]
  },
  {
   "cell_type": "code",
   "execution_count": 15,
   "metadata": {},
   "outputs": [],
   "source": [
    "class Net(nn.Module):\n",
    "    def __init__(self, vocab_size, input_size, hidden_size):\n",
    "        super(Net, self).__init__()\n",
    "        self.embedding_layer=nn.Embedding(num_embeddings=vocab_size,\n",
    "                                          embedding_dim=input_size)\n",
    "        self.rnn_layer=nn.RNN(input_size, hidden_size, batch_first=True)\n",
    "        self.linear=nn.Linear(hidden_size, vocab_size)\n",
    "\n",
    "    def forward(self, x):\n",
    "        # 1. 임베딩 층\n",
    "        # 크기변화: (배치 크기, 시퀀스 길이) => (배치 크기, 시퀀스 길이, 임베딩 차원)\n",
    "        output=self.embedding_layer(x)\n",
    "        # 2. RNN층\n",
    "        # 크기변화 : (배치크기, 시퀀스 길이, 임베딩 차원)\n",
    "        # => output (배치크기, 시퀀스 길이, 은닉층 크기), hidden (1, 배치크기, 은닉층 크기)\n",
    "        output, hidden=self.rnn_layer(output)\n",
    "        # 3. 최종 출력층\n",
    "        # 크기변화: (배치크기, 시퀀스 길이, 은닉층 크기) => (배치크기,  시퀀스 길이, 단어장 크기)\n",
    "        output=self.linear(output)\n",
    "        # 4. view를 통해서 배치 차원 제거\n",
    "        # 크기변화: (배치크기, 시퀀스 길이, 단어장 크기) => (배치크기 * 시퀀스 길이, 단어장 크기)\n",
    "        return output.view(-1, output.size(2))"
   ]
  },
  {
   "cell_type": "code",
   "execution_count": 16,
   "metadata": {},
   "outputs": [],
   "source": [
    "vocab_size=len(word2index)\n",
    "input_size=5\n",
    "hidden_size=20\n"
   ]
  },
  {
   "cell_type": "code",
   "execution_count": 17,
   "metadata": {},
   "outputs": [],
   "source": [
    "model=Net(vocab_size, input_size, hidden_size)\n",
    "loss_function=nn.CrossEntropyLoss()\n",
    "optimizer=optim.Adam(params=model.parameters())\n"
   ]
  },
  {
   "cell_type": "code",
   "execution_count": 18,
   "metadata": {},
   "outputs": [
    {
     "name": "stdout",
     "output_type": "stream",
     "text": [
      "tensor([[ 0.1537,  0.1138, -0.2179,  0.1028, -0.4076,  0.1756, -0.2627, -0.4279],\n",
      "        [ 0.0250,  0.2747,  0.2019,  0.0611, -0.1623,  0.0186, -0.1487,  0.1581],\n",
      "        [ 0.1002,  0.0852, -0.2719,  0.0546, -0.0565, -0.0424, -0.2199,  0.0091],\n",
      "        [ 0.0577, -0.1286,  0.1325,  0.1659, -0.2342,  0.0269, -0.0606, -0.0092],\n",
      "        [-0.1093, -0.2124, -0.0093,  0.0852,  0.1044, -0.2753, -0.0377,  0.0371],\n",
      "        [-0.1092, -0.1863,  0.1633,  0.1252, -0.0256, -0.2056, -0.0078, -0.1126]],\n",
      "       grad_fn=<ViewBackward0>)\n"
     ]
    }
   ],
   "source": [
    "output=model(X)\n",
    "print(output)"
   ]
  },
  {
   "cell_type": "code",
   "execution_count": 20,
   "metadata": {},
   "outputs": [
    {
     "name": "stdout",
     "output_type": "stream",
     "text": [
      "<function <lambda> at 0x00000295EC0565F0>\n"
     ]
    }
   ],
   "source": [
    "decded=lambda y: [index2word.get(x) for x in y]\n",
    "print(decded)\n"
   ]
  },
  {
   "cell_type": "code",
   "execution_count": 24,
   "metadata": {},
   "outputs": [
    {
     "name": "stdout",
     "output_type": "stream",
     "text": [
      "step: 0 loss: 0.03506462275981903\n",
      "Repeat is the best medicine for memory\n",
      "\n",
      "step: 40 loss: 0.029277389869093895\n",
      "Repeat is the best medicine for memory\n",
      "\n",
      "step: 80 loss: 0.024855181574821472\n",
      "Repeat is the best medicine for memory\n",
      "\n",
      "step: 120 loss: 0.021390261128544807\n",
      "Repeat is the best medicine for memory\n",
      "\n",
      "step: 160 loss: 0.01861913688480854\n",
      "Repeat is the best medicine for memory\n",
      "\n",
      "step: 200 loss: 0.01636502705514431\n",
      "Repeat is the best medicine for memory\n",
      "\n"
     ]
    }
   ],
   "source": [
    "for step in range(201):\n",
    "    optimizer.zero_grad()\n",
    "    outputs=model(X)\n",
    "    loss=loss_function(outputs, Y.view(-1))\n",
    "\n",
    "    loss.backward()\n",
    "    optimizer.step()\n",
    "\n",
    "    if step % 40 == 0:\n",
    "        print(\"step:\",step, \"loss:\",loss.item())\n",
    "        pred=outputs.softmax(-1).argmax(-1).tolist()\n",
    "        print(\" \".join(['Repeat']+decded(pred)))\n",
    "        print()\n"
   ]
  }
 ],
 "metadata": {
  "kernelspec": {
   "display_name": "base",
   "language": "python",
   "name": "python3"
  },
  "language_info": {
   "codemirror_mode": {
    "name": "ipython",
    "version": 3
   },
   "file_extension": ".py",
   "mimetype": "text/x-python",
   "name": "python",
   "nbconvert_exporter": "python",
   "pygments_lexer": "ipython3",
   "version": "3.10.9"
  },
  "orig_nbformat": 4
 },
 "nbformat": 4,
 "nbformat_minor": 2
}
