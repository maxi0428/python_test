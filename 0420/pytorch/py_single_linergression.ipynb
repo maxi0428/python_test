{
 "cells": [
  {
   "cell_type": "code",
   "execution_count": 1,
   "metadata": {},
   "outputs": [],
   "source": [
    "import numpy as np"
   ]
  },
  {
   "cell_type": "code",
   "execution_count": 8,
   "metadata": {},
   "outputs": [],
   "source": [
    "def mul_numerical_derivative(f,x):\n",
    "    delta_x=1e-4\n",
    "    grad=np.zeros_like(x) # 미분 결과값 저장 배열\n",
    "\n",
    "    it=np.nditer(x, flags=['multi_index'], op_flags=['readwrite'])\n",
    "    while not it.finished:\n",
    "        idx=it.multi_index\n",
    "\n",
    "        tmp_val=x[idx]\n",
    "        x[idx]=float(tmp_val)+delta_x\n",
    "        fx1=f(x)\n",
    "        x[idx]=tmp_val-delta_x\n",
    "        fx2=f(x)\n",
    "        grad[idx]=(fx1-fx2)/(2*delta_x)\n",
    "        x[idx]=tmp_val\n",
    "        it.iternext()\n",
    "    return grad"
   ]
  },
  {
   "cell_type": "code",
   "execution_count": 4,
   "metadata": {},
   "outputs": [],
   "source": [
    "x_data=np.array([1,2,3,4,5]).reshape(5,1)\n",
    "t_data=np.array([3,5,7,9,11]).reshape(5,1) # y=2x+1"
   ]
  },
  {
   "cell_type": "code",
   "execution_count": 3,
   "metadata": {},
   "outputs": [
    {
     "name": "stdout",
     "output_type": "stream",
     "text": [
      "[[0.69283775]] [0.24986211]\n"
     ]
    }
   ],
   "source": [
    "w=np.random.rand(1,1)\n",
    "b=np.random.rand(1)\n",
    "print(w, b)"
   ]
  },
  {
   "cell_type": "code",
   "execution_count": 6,
   "metadata": {},
   "outputs": [],
   "source": [
    "def loss_func(x,t):\n",
    "    y=np.dot(x,w)+b # y=xw+b\n",
    "    return (np.sum((t-y)**2))/len(x)"
   ]
  },
  {
   "cell_type": "code",
   "execution_count": 5,
   "metadata": {},
   "outputs": [],
   "source": [
    "def predict(x):\n",
    "    y=np.dot(x,w)+b\n",
    "    return y"
   ]
  },
  {
   "cell_type": "code",
   "execution_count": 9,
   "metadata": {},
   "outputs": [
    {
     "name": "stdout",
     "output_type": "stream",
     "text": [
      "Initial error value= 25.241423236554333 w= [[0.69283775]] b= [0.24986211]\n",
      "step= 0 error value= 14.862451923264118 w= [[1.02542171]] b= [0.32333956]\n",
      "step= 400 error value= 0.0022457180363943596 w= [[2.03077332]] b= [0.88892574]\n",
      "step= 800 error value= 0.0001432900873459335 w= [[2.00777329]] b= [0.97194283]\n",
      "step= 1200 error value= 9.142754699770939e-06 w= [[2.00196352]] b= [0.99291281]\n",
      "step= 1600 error value= 5.833618015620569e-07 w= [[2.00049598]] b= [0.99820979]\n",
      "step= 2000 error value= 3.722193175896724e-08 w= [[2.00012528]] b= [0.9995478]\n",
      "step= 2400 error value= 2.3749793012006396e-09 w= [[2.00003165]] b= [0.99988577]\n",
      "step= 2800 error value= 1.515377202098671e-10 w= [[2.00000799]] b= [0.99997115]\n",
      "step= 3200 error value= 9.669002431044725e-12 w= [[2.00000202]] b= [0.99999271]\n",
      "step= 3600 error value= 6.169395177160794e-13 w= [[2.00000051]] b= [0.99999816]\n",
      "step= 4000 error value= 3.9364388242566834e-14 w= [[2.00000013]] b= [0.99999953]\n",
      "step= 4400 error value= 2.5116806314590003e-15 w= [[2.00000003]] b= [0.99999988]\n",
      "step= 4800 error value= 1.6026007316219622e-16 w= [[2.00000001]] b= [0.99999997]\n",
      "step= 5200 error value= 1.0225533975899891e-17 w= [[2.]] b= [0.99999999]\n",
      "step= 5600 error value= 6.524488344217973e-19 w= [[2.]] b= [1.]\n",
      "step= 6000 error value= 4.1630014878310164e-20 w= [[2.]] b= [1.]\n",
      "step= 6400 error value= 2.6561929140756756e-21 w= [[2.]] b= [1.]\n",
      "step= 6800 error value= 1.694772336804166e-22 w= [[2.]] b= [1.]\n",
      "step= 7200 error value= 1.0818561674274351e-23 w= [[2.]] b= [1.]\n",
      "step= 7600 error value= 6.917907819726611e-25 w= [[2.]] b= [1.]\n"
     ]
    }
   ],
   "source": [
    "learning_rate=1e-2\n",
    "\n",
    "f=lambda x:loss_func(x_data, t_data)\n",
    "print(\"Initial error value=\",loss_func(x_data,t_data), 'w=',w,'b=',b)\n",
    "\n",
    "for step in range(8000):\n",
    "    w-=learning_rate*mul_numerical_derivative(f,w)\n",
    "    b-=learning_rate*mul_numerical_derivative(f,b)\n",
    "    if step%400==0:\n",
    "        print(\"step=\", step, \"error value=\", loss_func(x_data, t_data), 'w=',w,'b=',b)"
   ]
  },
  {
   "cell_type": "code",
   "execution_count": 12,
   "metadata": {},
   "outputs": [
    {
     "data": {
      "text/plain": [
       "array([[15.]])"
      ]
     },
     "execution_count": 12,
     "metadata": {},
     "output_type": "execute_result"
    }
   ],
   "source": [
    "predict(7)"
   ]
  }
 ],
 "metadata": {
  "kernelspec": {
   "display_name": "base",
   "language": "python",
   "name": "python3"
  },
  "language_info": {
   "codemirror_mode": {
    "name": "ipython",
    "version": 3
   },
   "file_extension": ".py",
   "mimetype": "text/x-python",
   "name": "python",
   "nbconvert_exporter": "python",
   "pygments_lexer": "ipython3",
   "version": "3.10.9"
  },
  "orig_nbformat": 4
 },
 "nbformat": 4,
 "nbformat_minor": 2
}
