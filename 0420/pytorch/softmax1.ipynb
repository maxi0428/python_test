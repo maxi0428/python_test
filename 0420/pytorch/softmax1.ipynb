{
 "cells": [
  {
   "cell_type": "code",
   "execution_count": 2,
   "metadata": {},
   "outputs": [
    {
     "data": {
      "text/plain": [
       "<torch._C.Generator at 0x244e85b21b0>"
      ]
     },
     "execution_count": 2,
     "metadata": {},
     "output_type": "execute_result"
    }
   ],
   "source": [
    "import torch\n",
    "import torch.nn.functional as F\n",
    "torch.manual_seed(1)"
   ]
  },
  {
   "cell_type": "code",
   "execution_count": 4,
   "metadata": {},
   "outputs": [
    {
     "name": "stdout",
     "output_type": "stream",
     "text": [
      "tensor([0.0900, 0.2447, 0.6652])\n",
      "tensor(1.)\n"
     ]
    }
   ],
   "source": [
    "z= torch.FloatTensor([1,2,3])\n",
    "y= F.softmax(z,dim=0)\n",
    "print(y)\n",
    "print(y.sum())"
   ]
  },
  {
   "cell_type": "code",
   "execution_count": 10,
   "metadata": {},
   "outputs": [
    {
     "name": "stdout",
     "output_type": "stream",
     "text": [
      "tensor([[0.2939, 0.1425, 0.1737, 0.1868, 0.2029],\n",
      "        [0.1407, 0.1442, 0.2699, 0.1828, 0.2625],\n",
      "        [0.1773, 0.2030, 0.1923, 0.2066, 0.2207]], grad_fn=<SoftmaxBackward0>)\n",
      "tensor([1., 1., 1.], grad_fn=<SumBackward1>)\n"
     ]
    }
   ],
   "source": [
    "z=torch.rand(3,5, requires_grad=True)\n",
    "h=F.softmax(z,dim=1)\n",
    "print(h)\n",
    "print(h.sum(dim=1))"
   ]
  },
  {
   "cell_type": "code",
   "execution_count": 14,
   "metadata": {},
   "outputs": [
    {
     "name": "stdout",
     "output_type": "stream",
     "text": [
      "tensor([1, 1, 4])\n",
      "tensor([[0., 0., 0., 0., 0.],\n",
      "        [0., 0., 0., 0., 0.],\n",
      "        [0., 0., 0., 0., 0.]])\n",
      "tensor([[0., 1., 0., 0., 0.],\n",
      "        [0., 1., 0., 0., 0.],\n",
      "        [0., 0., 0., 0., 1.]])\n"
     ]
    }
   ],
   "source": [
    "y=torch.randint(5,(3,)).long()\n",
    "print(y)\n",
    "y_one_hot=torch.zeros_like(h)\n",
    "print(y_one_hot)\n",
    "y_one_hot.scatter_(1,y.unsqueeze(1),1)\n",
    "print(y_one_hot)"
   ]
  },
  {
   "cell_type": "code",
   "execution_count": 16,
   "metadata": {},
   "outputs": [
    {
     "name": "stdout",
     "output_type": "stream",
     "text": [
      "tensor([[1],\n",
      "        [1],\n",
      "        [4]])\n"
     ]
    }
   ],
   "source": [
    "print(y.unsqueeze(1))"
   ]
  },
  {
   "cell_type": "code",
   "execution_count": 17,
   "metadata": {},
   "outputs": [
    {
     "name": "stdout",
     "output_type": "stream",
     "text": [
      "tensor(1.7985, grad_fn=<MeanBackward0>)\n"
     ]
    }
   ],
   "source": [
    "cost=(y_one_hot * -torch.log(h)).sum(dim=1).mean()\n",
    "print(cost)"
   ]
  },
  {
   "cell_type": "code",
   "execution_count": 18,
   "metadata": {},
   "outputs": [
    {
     "data": {
      "text/plain": [
       "tensor([[-1.2244, -1.9481, -1.7502, -1.6775, -1.5948],\n",
       "        [-1.9613, -1.9367, -1.3099, -1.6991, -1.3377],\n",
       "        [-1.7301, -1.5944, -1.6486, -1.5768, -1.5107]], grad_fn=<LogBackward0>)"
      ]
     },
     "execution_count": 18,
     "metadata": {},
     "output_type": "execute_result"
    }
   ],
   "source": [
    "torch.log(F.softmax(z,dim=1))"
   ]
  },
  {
   "cell_type": "code",
   "execution_count": 19,
   "metadata": {},
   "outputs": [
    {
     "data": {
      "text/plain": [
       "tensor([[-1.2244, -1.9481, -1.7502, -1.6775, -1.5948],\n",
       "        [-1.9613, -1.9367, -1.3099, -1.6991, -1.3377],\n",
       "        [-1.7301, -1.5944, -1.6486, -1.5768, -1.5107]],\n",
       "       grad_fn=<LogSoftmaxBackward0>)"
      ]
     },
     "execution_count": 19,
     "metadata": {},
     "output_type": "execute_result"
    }
   ],
   "source": [
    "F.log_softmax(z,dim=1)"
   ]
  },
  {
   "cell_type": "code",
   "execution_count": 25,
   "metadata": {},
   "outputs": [
    {
     "data": {
      "text/plain": [
       "tensor(1.7985, grad_fn=<MeanBackward0>)"
      ]
     },
     "execution_count": 25,
     "metadata": {},
     "output_type": "execute_result"
    }
   ],
   "source": [
    "(y_one_hot * -torch.log(F.softmax(z,dim=1))).sum(dim=1).mean()"
   ]
  },
  {
   "cell_type": "code",
   "execution_count": 24,
   "metadata": {},
   "outputs": [
    {
     "data": {
      "text/plain": [
       "tensor(1.7985, grad_fn=<MeanBackward0>)"
      ]
     },
     "execution_count": 24,
     "metadata": {},
     "output_type": "execute_result"
    }
   ],
   "source": [
    "(y_one_hot * -F.log_softmax(z, dim=1)).sum(dim=1).mean()"
   ]
  },
  {
   "cell_type": "code",
   "execution_count": 26,
   "metadata": {},
   "outputs": [
    {
     "data": {
      "text/plain": [
       "tensor(1.7985, grad_fn=<NllLossBackward0>)"
      ]
     },
     "execution_count": 26,
     "metadata": {},
     "output_type": "execute_result"
    }
   ],
   "source": [
    "F.nll_loss(F.log_softmax(z, dim=1),y)"
   ]
  },
  {
   "cell_type": "code",
   "execution_count": 27,
   "metadata": {},
   "outputs": [
    {
     "data": {
      "text/plain": [
       "tensor(1.7985, grad_fn=<NllLossBackward0>)"
      ]
     },
     "execution_count": 27,
     "metadata": {},
     "output_type": "execute_result"
    }
   ],
   "source": [
    "F.cross_entropy(z,y)"
   ]
  },
  {
   "cell_type": "code",
   "execution_count": 41,
   "metadata": {},
   "outputs": [
    {
     "data": {
      "text/plain": [
       "<torch._C.Generator at 0x244e85b21b0>"
      ]
     },
     "execution_count": 41,
     "metadata": {},
     "output_type": "execute_result"
    }
   ],
   "source": [
    "import torch\n",
    "import torch.nn as nn\n",
    "import torch.nn.functional as F\n",
    "import torch.optim as optim\n",
    "torch.manual_seed(1)"
   ]
  },
  {
   "cell_type": "code",
   "execution_count": 28,
   "metadata": {},
   "outputs": [],
   "source": [
    "import numpy as np\n",
    "import matplotlib.pyplot as plt\n"
   ]
  },
  {
   "cell_type": "code",
   "execution_count": 38,
   "metadata": {},
   "outputs": [
    {
     "name": "stdout",
     "output_type": "stream",
     "text": [
      "torch.Size([8, 4])\n",
      "torch.Size([8])\n"
     ]
    }
   ],
   "source": [
    "torch.manual_seed(1)\n",
    "x_train= [[1,2,1,1],\n",
    "          [2,1,3,2],\n",
    "          [3,1,3,4],\n",
    "          [4,1,5,5],\n",
    "          [1,7,5,5],\n",
    "          [1,2,5,6],\n",
    "          [1,6,6,6],\n",
    "          [1,7,7,7]\n",
    "          ]\n",
    "y_train = [2,2,2,1,1,1,0,0]\n",
    "x_train = torch.FloatTensor(x_train)\n",
    "y_train = torch.LongTensor(y_train)\n",
    "print(x_train.shape)\n",
    "print(y_train.shape)"
   ]
  },
  {
   "cell_type": "code",
   "execution_count": 50,
   "metadata": {},
   "outputs": [
    {
     "name": "stdout",
     "output_type": "stream",
     "text": [
      "tensor([1, 1, 4]) tensor([[0., 0., 1.],\n",
      "        [0., 0., 1.],\n",
      "        [0., 0., 1.],\n",
      "        [0., 1., 0.],\n",
      "        [0., 1., 0.],\n",
      "        [0., 1., 0.],\n",
      "        [1., 0., 0.],\n",
      "        [1., 0., 0.]])\n"
     ]
    }
   ],
   "source": [
    "y_one_hot=torch.zeros(8,3)\n",
    "y_one_hot.scatter_(1,y_train.unsqueeze(1),1)\n",
    "print(y, y_one_hot)"
   ]
  },
  {
   "cell_type": "code",
   "execution_count": 51,
   "metadata": {},
   "outputs": [
    {
     "name": "stdout",
     "output_type": "stream",
     "text": [
      "tensor([[0., 0., 0.],\n",
      "        [0., 0., 0.],\n",
      "        [0., 0., 0.],\n",
      "        [0., 0., 0.]], requires_grad=True) tensor([[0., 0., 0.]], requires_grad=True)\n"
     ]
    }
   ],
   "source": [
    "# low_level 구현\n",
    "W=torch.zeros((4,3),requires_grad=True)\n",
    "b=torch.zeros((1,3),requires_grad=True)\n",
    "print(W,b)\n",
    "optimizer=optim.SGD([W,b], lr=0.1)"
   ]
  },
  {
   "cell_type": "code",
   "execution_count": 55,
   "metadata": {},
   "outputs": [
    {
     "name": "stdout",
     "output_type": "stream",
     "text": [
      "epoch= 0 cost= 0.24815471470355988\n",
      "epoch= 100 cost= 0.24815471470355988\n",
      "epoch= 200 cost= 0.24815471470355988\n",
      "epoch= 300 cost= 0.24815471470355988\n",
      "epoch= 400 cost= 0.24815471470355988\n",
      "epoch= 500 cost= 0.24815471470355988\n",
      "epoch= 600 cost= 0.24815471470355988\n",
      "epoch= 700 cost= 0.24815471470355988\n",
      "epoch= 800 cost= 0.24815471470355988\n",
      "epoch= 900 cost= 0.24815471470355988\n"
     ]
    }
   ],
   "source": [
    "n_epochs=1000\n",
    "for epoch in range(n_epochs):\n",
    "    y_hat=F.softmax(x_train.matmul(W)+b, dim=1)\n",
    "    cost=(y_one_hot * -torch.log(y_hat)).sum(dim=1).mean()\n",
    "\n",
    "    optimizer.zero_grad()\n",
    "    cost.backward()\n",
    "    optimizer.step()\n",
    "\n",
    "    if epoch % 100 == 0:\n",
    "        print(\"epoch=\",epoch, \"cost=\",cost.item())"
   ]
  },
  {
   "cell_type": "code",
   "execution_count": 72,
   "metadata": {},
   "outputs": [
    {
     "name": "stdout",
     "output_type": "stream",
     "text": [
      "tensor([[0., 0., 0.],\n",
      "        [0., 0., 0.],\n",
      "        [0., 0., 0.],\n",
      "        [0., 0., 0.]], requires_grad=True) tensor([[0., 0., 0.]], requires_grad=True)\n",
      "epoch= 0 cost= 1.0986123085021973\n",
      "epoch= 100 cost= 0.7041995525360107\n",
      "epoch= 200 cost= 0.6229995489120483\n",
      "epoch= 300 cost= 0.5657169818878174\n",
      "epoch= 400 cost= 0.5152913928031921\n",
      "epoch= 500 cost= 0.46766164898872375\n",
      "epoch= 600 cost= 0.4212779998779297\n",
      "epoch= 700 cost= 0.3754015564918518\n",
      "epoch= 800 cost= 0.3297656178474426\n",
      "epoch= 900 cost= 0.2850722670555115\n"
     ]
    }
   ],
   "source": [
    "# high_level 구현\n",
    "\n",
    "W=torch.zeros((4,3),requires_grad=True)\n",
    "b=torch.zeros((1,3),requires_grad=True)\n",
    "print(W,b)\n",
    "optimizer=optim.SGD([W,b], lr=0.1)\n",
    "\n",
    "for epoch in range(n_epochs):\n",
    "    z=x_train.matmul(W) + b\n",
    "    cost=F.cross_entropy(z,y_train)\n",
    "\n",
    "    optimizer.zero_grad()\n",
    "    cost.backward()\n",
    "    optimizer.step()\n",
    "\n",
    "    if epoch % 100 == 0:\n",
    "        print(\"epoch=\",epoch, \"cost=\",cost.item())\n"
   ]
  },
  {
   "cell_type": "code",
   "execution_count": 76,
   "metadata": {},
   "outputs": [
    {
     "name": "stdout",
     "output_type": "stream",
     "text": [
      "epoch= 0 cost= 2.1878204345703125\n",
      "epoch= 100 cost= 0.7547277808189392\n",
      "epoch= 200 cost= 0.6898152232170105\n",
      "epoch= 300 cost= 0.6515492796897888\n",
      "epoch= 400 cost= 0.6231000423431396\n",
      "epoch= 500 cost= 0.6001359820365906\n",
      "epoch= 600 cost= 0.5808707475662231\n",
      "epoch= 700 cost= 0.5643244385719299\n",
      "epoch= 800 cost= 0.5498682856559753\n",
      "epoch= 900 cost= 0.5370631217956543\n"
     ]
    }
   ],
   "source": [
    "model=nn.Linear(4,3)\n",
    "optimizer=optim.SGD(model.parameters(),lr=0.01)\n",
    "\n",
    "for epoch in range(n_epochs):\n",
    "    y_hat=model(x_train)\n",
    "    cost=F.cross_entropy(y_hat,y_train)\n",
    "\n",
    "    optimizer.zero_grad()\n",
    "    cost.backward()\n",
    "    optimizer.step()\n",
    "\n",
    "    if epoch % 100 == 0:\n",
    "        print(\"epoch=\",epoch, \"cost=\",cost.item())"
   ]
  },
  {
   "cell_type": "code",
   "execution_count": 77,
   "metadata": {},
   "outputs": [],
   "source": [
    "class SoftmaxClassifierModel(nn.Module):\n",
    "    def __init__(self):\n",
    "        super().__init__()\n",
    "        self.linear = nn.Linear(4,3)\n",
    "\n",
    "    def forward(self,x):\n",
    "        return self.linear(x)"
   ]
  },
  {
   "cell_type": "code",
   "execution_count": 78,
   "metadata": {},
   "outputs": [
    {
     "name": "stdout",
     "output_type": "stream",
     "text": [
      "epoch= 0 cost= 1.7170772552490234\n",
      "epoch= 100 cost= 0.8775950074195862\n",
      "epoch= 200 cost= 0.757685661315918\n",
      "epoch= 300 cost= 0.6942103505134583\n",
      "epoch= 400 cost= 0.6526139974594116\n",
      "epoch= 500 cost= 0.6221368908882141\n",
      "epoch= 600 cost= 0.598246157169342\n",
      "epoch= 700 cost= 0.5786740183830261\n",
      "epoch= 800 cost= 0.5621402859687805\n",
      "epoch= 900 cost= 0.5478534698486328\n"
     ]
    }
   ],
   "source": [
    "model=SoftmaxClassifierModel()\n",
    "optimizer=optim.SGD(model.parameters(), lr=0.01)\n",
    "\n",
    "for epoch in range(n_epochs):\n",
    "    y_hat=model(x_train)\n",
    "    cost=F.cross_entropy(y_hat,y_train)\n",
    "\n",
    "    optimizer.zero_grad()\n",
    "    cost.backward()\n",
    "    optimizer.step()\n",
    "\n",
    "    if epoch % 100 == 0:\n",
    "        print(\"epoch=\",epoch, \"cost=\",cost.item())"
   ]
  }
 ],
 "metadata": {
  "kernelspec": {
   "display_name": "base",
   "language": "python",
   "name": "python3"
  },
  "language_info": {
   "codemirror_mode": {
    "name": "ipython",
    "version": 3
   },
   "file_extension": ".py",
   "mimetype": "text/x-python",
   "name": "python",
   "nbconvert_exporter": "python",
   "pygments_lexer": "ipython3",
   "version": "3.10.9"
  },
  "orig_nbformat": 4
 },
 "nbformat": 4,
 "nbformat_minor": 2
}
