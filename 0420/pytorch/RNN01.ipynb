{
 "cells": [
  {
   "cell_type": "code",
   "execution_count": 36,
   "metadata": {},
   "outputs": [],
   "source": [
    "import torch\n",
    "import torch.nn as nn\n",
    "import torch.optim as optim\n",
    "import numpy as np\n"
   ]
  },
  {
   "cell_type": "code",
   "execution_count": 37,
   "metadata": {},
   "outputs": [
    {
     "name": "stdout",
     "output_type": "stream",
     "text": [
      "[' ', 'a', 'g', 'h', 'm', 'n', 'o', 'p', 'r', 't', 'y'] 11\n"
     ]
    }
   ],
   "source": [
    "input_str='python progra'\n",
    "label_str='ython program'\n",
    "char_vocab=sorted(list(set(input_str+label_str)))\n",
    "vocab_size=len(char_vocab)\n",
    "print(char_vocab, vocab_size)"
   ]
  },
  {
   "cell_type": "code",
   "execution_count": 38,
   "metadata": {},
   "outputs": [],
   "source": [
    "input_size=vocab_size\n",
    "hidden_size=11\n",
    "output_size=11\n",
    "learning_rate=0.1\n"
   ]
  },
  {
   "cell_type": "code",
   "execution_count": 39,
   "metadata": {},
   "outputs": [
    {
     "name": "stdout",
     "output_type": "stream",
     "text": [
      "{' ': 0, 'a': 1, 'g': 2, 'h': 3, 'm': 4, 'n': 5, 'o': 6, 'p': 7, 'r': 8, 't': 9, 'y': 10}\n"
     ]
    }
   ],
   "source": [
    "char_to_index=dict((c,i) for i, c in enumerate(char_vocab))\n",
    "print(char_to_index)"
   ]
  },
  {
   "cell_type": "code",
   "execution_count": 40,
   "metadata": {},
   "outputs": [
    {
     "name": "stdout",
     "output_type": "stream",
     "text": [
      "{0: ' ', 1: 'a', 2: 'g', 3: 'h', 4: 'm', 5: 'n', 6: 'o', 7: 'p', 8: 'r', 9: 't', 10: 'y'}\n"
     ]
    }
   ],
   "source": [
    "index_to_char={}\n",
    "for key, value in char_to_index.items():\n",
    "    index_to_char[value]=key\n",
    "print(index_to_char)\n"
   ]
  },
  {
   "cell_type": "code",
   "execution_count": 41,
   "metadata": {},
   "outputs": [
    {
     "name": "stdout",
     "output_type": "stream",
     "text": [
      "[7, 10, 9, 3, 6, 5, 0, 7, 8, 6, 2, 8, 1]\n",
      "[10, 9, 3, 6, 5, 0, 7, 8, 6, 2, 8, 1, 4]\n"
     ]
    }
   ],
   "source": [
    "x_data=[char_to_index[c] for c in input_str]\n",
    "y_data=[char_to_index[c] for c in label_str]\n",
    "print(x_data)\n",
    "print(y_data)"
   ]
  },
  {
   "cell_type": "code",
   "execution_count": 42,
   "metadata": {},
   "outputs": [
    {
     "name": "stdout",
     "output_type": "stream",
     "text": [
      "[[7, 10, 9, 3, 6, 5, 0, 7, 8, 6, 2, 8, 1]] [[10, 9, 3, 6, 5, 0, 7, 8, 6, 2, 8, 1, 4]]\n"
     ]
    }
   ],
   "source": [
    "x_data=[x_data]\n",
    "y_data=[y_data]\n",
    "print(x_data, y_data)"
   ]
  },
  {
   "cell_type": "code",
   "execution_count": 43,
   "metadata": {},
   "outputs": [
    {
     "name": "stdout",
     "output_type": "stream",
     "text": [
      "[array([[0., 0., 0., 0., 0., 0., 0., 1., 0., 0., 0.],\n",
      "       [0., 0., 0., 0., 0., 0., 0., 0., 0., 0., 1.],\n",
      "       [0., 0., 0., 0., 0., 0., 0., 0., 0., 1., 0.],\n",
      "       [0., 0., 0., 1., 0., 0., 0., 0., 0., 0., 0.],\n",
      "       [0., 0., 0., 0., 0., 0., 1., 0., 0., 0., 0.],\n",
      "       [0., 0., 0., 0., 0., 1., 0., 0., 0., 0., 0.],\n",
      "       [1., 0., 0., 0., 0., 0., 0., 0., 0., 0., 0.],\n",
      "       [0., 0., 0., 0., 0., 0., 0., 1., 0., 0., 0.],\n",
      "       [0., 0., 0., 0., 0., 0., 0., 0., 1., 0., 0.],\n",
      "       [0., 0., 0., 0., 0., 0., 1., 0., 0., 0., 0.],\n",
      "       [0., 0., 1., 0., 0., 0., 0., 0., 0., 0., 0.],\n",
      "       [0., 0., 0., 0., 0., 0., 0., 0., 1., 0., 0.],\n",
      "       [0., 1., 0., 0., 0., 0., 0., 0., 0., 0., 0.]])]\n"
     ]
    }
   ],
   "source": [
    "x_one_hot=[np.eye(vocab_size)[x] for x in x_data]\n",
    "print(x_one_hot)"
   ]
  },
  {
   "cell_type": "code",
   "execution_count": 44,
   "metadata": {},
   "outputs": [
    {
     "name": "stdout",
     "output_type": "stream",
     "text": [
      "torch.Size([1, 13, 11]) tensor([[[0., 0., 0., 0., 0., 0., 0., 1., 0., 0., 0.],\n",
      "         [0., 0., 0., 0., 0., 0., 0., 0., 0., 0., 1.],\n",
      "         [0., 0., 0., 0., 0., 0., 0., 0., 0., 1., 0.],\n",
      "         [0., 0., 0., 1., 0., 0., 0., 0., 0., 0., 0.],\n",
      "         [0., 0., 0., 0., 0., 0., 1., 0., 0., 0., 0.],\n",
      "         [0., 0., 0., 0., 0., 1., 0., 0., 0., 0., 0.],\n",
      "         [1., 0., 0., 0., 0., 0., 0., 0., 0., 0., 0.],\n",
      "         [0., 0., 0., 0., 0., 0., 0., 1., 0., 0., 0.],\n",
      "         [0., 0., 0., 0., 0., 0., 0., 0., 1., 0., 0.],\n",
      "         [0., 0., 0., 0., 0., 0., 1., 0., 0., 0., 0.],\n",
      "         [0., 0., 1., 0., 0., 0., 0., 0., 0., 0., 0.],\n",
      "         [0., 0., 0., 0., 0., 0., 0., 0., 1., 0., 0.],\n",
      "         [0., 1., 0., 0., 0., 0., 0., 0., 0., 0., 0.]]])\n",
      "torch.Size([1, 13]) tensor([[10,  9,  3,  6,  5,  0,  7,  8,  6,  2,  8,  1,  4]])\n"
     ]
    }
   ],
   "source": [
    "X=torch.FloatTensor(x_one_hot)\n",
    "Y=torch.LongTensor(y_data)\n",
    "print(X.shape, X)\n",
    "print(Y.shape, Y)"
   ]
  },
  {
   "cell_type": "code",
   "execution_count": 45,
   "metadata": {},
   "outputs": [],
   "source": [
    "class Net(nn.Module):\n",
    "    def __init__(self, input_size, hidden_size, output_size):\n",
    "        super(Net, self).__init__()\n",
    "        self.rnn=nn.RNN(input_size, hidden_size, batch_first=True)\n",
    "        self.fc=nn.Linear(hidden_size, output_size, bias=True)\n",
    "\n",
    "    def forward(self, x):\n",
    "        x, _status=self.rnn(x)\n",
    "        x= self.fc(x)\n",
    "        return x\n",
    "    "
   ]
  },
  {
   "cell_type": "code",
   "execution_count": 46,
   "metadata": {},
   "outputs": [
    {
     "name": "stdout",
     "output_type": "stream",
     "text": [
      "torch.Size([1, 13, 11]) tensor([[[-0.1234,  0.1175,  0.2140, -0.0013, -0.3184, -0.3095, -0.1935,\n",
      "           0.3784,  0.2096, -0.1200,  0.2034],\n",
      "         [ 0.0407, -0.0797,  0.0219,  0.1945, -0.2623, -0.2075, -0.4469,\n",
      "           0.3390,  0.4528, -0.3562,  0.2720],\n",
      "         [-0.0091, -0.1582,  0.3170,  0.2806, -0.0519, -0.2846, -0.3503,\n",
      "           0.4468,  0.1999, -0.1510,  0.1624],\n",
      "         [-0.2277, -0.1014,  0.2664,  0.1470, -0.1313, -0.2047, -0.3524,\n",
      "           0.3566,  0.2298,  0.0172,  0.0128],\n",
      "         [-0.1264, -0.1892,  0.1973,  0.0299, -0.2011, -0.4049, -0.4643,\n",
      "           0.3137,  0.2142,  0.0770,  0.1279],\n",
      "         [ 0.0430, -0.0180,  0.3261, -0.0247, -0.1806, -0.5101, -0.4899,\n",
      "           0.4686,  0.2562, -0.2094,  0.1634],\n",
      "         [-0.1807,  0.0489,  0.1675, -0.0640, -0.1776, -0.4308, -0.4334,\n",
      "           0.3281,  0.3332, -0.1463,  0.0814],\n",
      "         [-0.1293,  0.1058,  0.1737, -0.0904, -0.2792, -0.4211, -0.3813,\n",
      "           0.3304,  0.2783, -0.1167,  0.1764],\n",
      "         [-0.0073, -0.1604,  0.1442, -0.0583, -0.1901, -0.4808, -0.4061,\n",
      "           0.2506,  0.2728, -0.0705,  0.2194],\n",
      "         [-0.2185, -0.1916,  0.1949,  0.0471, -0.1167, -0.5566, -0.4524,\n",
      "           0.2720,  0.1436,  0.1686,  0.1376],\n",
      "         [-0.0015, -0.1306,  0.1826, -0.0759, -0.3098, -0.4482, -0.7073,\n",
      "           0.3331,  0.2683, -0.0425,  0.1955],\n",
      "         [-0.0100, -0.1684,  0.1792, -0.0710, -0.1804, -0.5389, -0.5857,\n",
      "           0.2688,  0.3064, -0.0246,  0.1832],\n",
      "         [-0.0842, -0.2590,  0.2339,  0.0434, -0.1497, -0.5919, -0.4676,\n",
      "           0.3181,  0.1342, -0.0665,  0.0537]]], grad_fn=<ViewBackward0>)\n"
     ]
    }
   ],
   "source": [
    "net=Net(input_size, hidden_size, output_size)\n",
    "\n",
    "outputs=net(X)\n",
    "\n",
    "print(outputs.shape, outputs)"
   ]
  },
  {
   "cell_type": "code",
   "execution_count": 47,
   "metadata": {},
   "outputs": [
    {
     "name": "stdout",
     "output_type": "stream",
     "text": [
      "torch.Size([13, 11])\n"
     ]
    }
   ],
   "source": [
    "print(outputs.view(-1, input_size).shape)"
   ]
  },
  {
   "cell_type": "code",
   "execution_count": 48,
   "metadata": {},
   "outputs": [
    {
     "name": "stdout",
     "output_type": "stream",
     "text": [
      "torch.Size([1, 13])\n",
      "torch.Size([13])\n"
     ]
    }
   ],
   "source": [
    "print(Y.shape)\n",
    "print(Y.view(-1).shape)"
   ]
  },
  {
   "cell_type": "code",
   "execution_count": 49,
   "metadata": {},
   "outputs": [],
   "source": [
    "criterion=nn.CrossEntropyLoss()\n",
    "optimizer=optim.Adam(net.parameters(), lr=learning_rate)"
   ]
  },
  {
   "cell_type": "code",
   "execution_count": 50,
   "metadata": {},
   "outputs": [
    {
     "name": "stdout",
     "output_type": "stream",
     "text": [
      "0 loss: 2.419865608215332 prediction: [[7 8 7 7 7 7 8 7 8 7 7 8 7]] true Y: [[10, 9, 3, 6, 5, 0, 7, 8, 6, 2, 8, 1, 4]] prediction_str: prpppprprpprp\n",
      "1 loss: 2.1031877994537354 prediction: [[ 8 10  3  6 10 10  6  8  6  6  8  6  6]] true Y: [[10, 9, 3, 6, 5, 0, 7, 8, 6, 2, 8, 1, 4]] prediction_str: ryhoyyorooroo\n",
      "2 loss: 1.8838578462600708 prediction: [[8 6 4 6 6 0 4 8 6 4 8 6 4]] true Y: [[10, 9, 3, 6, 5, 0, 7, 8, 6, 2, 8, 1, 4]] prediction_str: romoo mromrom\n",
      "3 loss: 1.4198862314224243 prediction: [[8 6 4 6 5 0 8 8 6 4 8 1 4]] true Y: [[10, 9, 3, 6, 5, 0, 7, 8, 6, 2, 8, 1, 4]] prediction_str: romon rromram\n",
      "4 loss: 1.001065731048584 prediction: [[8 9 3 6 5 0 8 8 6 2 8 1 4]] true Y: [[10, 9, 3, 6, 5, 0, 7, 8, 6, 2, 8, 1, 4]] prediction_str: rthon rrogram\n",
      "5 loss: 0.6831492781639099 prediction: [[8 9 3 6 5 0 7 8 6 2 8 1 4]] true Y: [[10, 9, 3, 6, 5, 0, 7, 8, 6, 2, 8, 1, 4]] prediction_str: rthon program\n",
      "6 loss: 0.4379277229309082 prediction: [[8 9 3 6 5 0 7 8 6 2 8 1 4]] true Y: [[10, 9, 3, 6, 5, 0, 7, 8, 6, 2, 8, 1, 4]] prediction_str: rthon program\n",
      "7 loss: 0.26867353916168213 prediction: [[10  9  3  6  5  0  7  8  6  2  8  1  4]] true Y: [[10, 9, 3, 6, 5, 0, 7, 8, 6, 2, 8, 1, 4]] prediction_str: ython program\n",
      "8 loss: 0.16431187093257904 prediction: [[10  9  3  6  5  0  7  8  6  2  8  1  4]] true Y: [[10, 9, 3, 6, 5, 0, 7, 8, 6, 2, 8, 1, 4]] prediction_str: ython program\n",
      "9 loss: 0.10160061717033386 prediction: [[10  9  3  6  5  0  7  8  6  2  8  1  4]] true Y: [[10, 9, 3, 6, 5, 0, 7, 8, 6, 2, 8, 1, 4]] prediction_str: ython program\n"
     ]
    }
   ],
   "source": [
    "for i in range(10):\n",
    "    optimizer.zero_grad()\n",
    "    outputs=net(X)\n",
    "    loss=criterion(outputs.view(-1, input_size), Y.view(-1))\n",
    "    loss.backward()\n",
    "    optimizer.step()\n",
    "\n",
    "    result=outputs.data.numpy().argmax(axis=2)\n",
    "    result_str=''.join([index_to_char[c] for c in np.squeeze(result)])\n",
    "    print(i, \"loss:\", loss.item(), \"prediction:\", result, \"true Y:\", y_data, \"prediction_str:\", result_str)"
   ]
  }
 ],
 "metadata": {
  "kernelspec": {
   "display_name": "base",
   "language": "python",
   "name": "python3"
  },
  "language_info": {
   "codemirror_mode": {
    "name": "ipython",
    "version": 3
   },
   "file_extension": ".py",
   "mimetype": "text/x-python",
   "name": "python",
   "nbconvert_exporter": "python",
   "pygments_lexer": "ipython3",
   "version": "3.10.9"
  },
  "orig_nbformat": 4
 },
 "nbformat": 4,
 "nbformat_minor": 2
}
