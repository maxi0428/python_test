{
 "cells": [
  {
   "cell_type": "code",
   "execution_count": 3,
   "metadata": {},
   "outputs": [
    {
     "name": "stdout",
     "output_type": "stream",
     "text": [
      "a    1\n",
      "b    2\n",
      "c    3\n",
      "d    4\n",
      "dtype: int64\n",
      "<class 'pandas.core.series.Series'>\n",
      "(4,)\n",
      "Index(['a', 'b', 'c', 'd'], dtype='object')\n"
     ]
    }
   ],
   "source": [
    "import pandas as pd\n",
    "\n",
    "a=[1,2,3,4]\n",
    "s1=pd.Series(a)\n",
    "s1.index=['a','b','c','d']\n",
    "print(s1)\n",
    "print(type(s1))\n",
    "print(s1.shape)\n",
    "print(s1.index)"
   ]
  },
  {
   "cell_type": "code",
   "execution_count": 4,
   "metadata": {},
   "outputs": [
    {
     "data": {
      "text/plain": [
       "a    10\n",
       "b    20\n",
       "c    30\n",
       "dtype: int64"
      ]
     },
     "execution_count": 4,
     "metadata": {},
     "output_type": "execute_result"
    }
   ],
   "source": [
    "a={'a':10,'b':20,'c':30}\n",
    "s2=pd.Series(a)\n",
    "s2"
   ]
  },
  {
   "cell_type": "code",
   "execution_count": 5,
   "metadata": {},
   "outputs": [
    {
     "data": {
      "text/html": [
       "<div>\n",
       "<style scoped>\n",
       "    .dataframe tbody tr th:only-of-type {\n",
       "        vertical-align: middle;\n",
       "    }\n",
       "\n",
       "    .dataframe tbody tr th {\n",
       "        vertical-align: top;\n",
       "    }\n",
       "\n",
       "    .dataframe thead th {\n",
       "        text-align: right;\n",
       "    }\n",
       "</style>\n",
       "<table border=\"1\" class=\"dataframe\">\n",
       "  <thead>\n",
       "    <tr style=\"text-align: right;\">\n",
       "      <th></th>\n",
       "      <th>name</th>\n",
       "      <th>score</th>\n",
       "      <th>major</th>\n",
       "    </tr>\n",
       "  </thead>\n",
       "  <tbody>\n",
       "    <tr>\n",
       "      <th>0</th>\n",
       "      <td>kim</td>\n",
       "      <td>85</td>\n",
       "      <td>컴공</td>\n",
       "    </tr>\n",
       "    <tr>\n",
       "      <th>1</th>\n",
       "      <td>lee</td>\n",
       "      <td>70</td>\n",
       "      <td>정보통신</td>\n",
       "    </tr>\n",
       "    <tr>\n",
       "      <th>2</th>\n",
       "      <td>park</td>\n",
       "      <td>75</td>\n",
       "      <td>경영</td>\n",
       "    </tr>\n",
       "    <tr>\n",
       "      <th>3</th>\n",
       "      <td>hong</td>\n",
       "      <td>90</td>\n",
       "      <td>컴공</td>\n",
       "    </tr>\n",
       "    <tr>\n",
       "      <th>4</th>\n",
       "      <td>jang</td>\n",
       "      <td>95</td>\n",
       "      <td>경영</td>\n",
       "    </tr>\n",
       "  </tbody>\n",
       "</table>\n",
       "</div>"
      ],
      "text/plain": [
       "   name  score major\n",
       "0   kim     85    컴공\n",
       "1   lee     70  정보통신\n",
       "2  park     75    경영\n",
       "3  hong     90    컴공\n",
       "4  jang     95    경영"
      ]
     },
     "execution_count": 5,
     "metadata": {},
     "output_type": "execute_result"
    }
   ],
   "source": [
    "names=['kim','lee','park','hong','jang']\n",
    "scores=[85,70,75,90,95]\n",
    "majors=['컴공','정보통신','경영','컴공','경영']\n",
    "\n",
    "data={'name':names,'score':scores,'major':majors}\n",
    "df=pd.DataFrame(data)\n",
    "df"
   ]
  },
  {
   "cell_type": "code",
   "execution_count": 6,
   "metadata": {},
   "outputs": [
    {
     "name": "stdout",
     "output_type": "stream",
     "text": [
      "   name major socre  grade\n",
      "0   kim    컴공    85      1\n",
      "1   lee  정보통신    70      2\n",
      "2  park    경영    75      3\n",
      "3  hong    컴공    90      4\n",
      "4  jang    경영    95      5\n"
     ]
    },
    {
     "data": {
      "text/html": [
       "<div>\n",
       "<style scoped>\n",
       "    .dataframe tbody tr th:only-of-type {\n",
       "        vertical-align: middle;\n",
       "    }\n",
       "\n",
       "    .dataframe tbody tr th {\n",
       "        vertical-align: top;\n",
       "    }\n",
       "\n",
       "    .dataframe thead th {\n",
       "        text-align: right;\n",
       "    }\n",
       "</style>\n",
       "<table border=\"1\" class=\"dataframe\">\n",
       "  <thead>\n",
       "    <tr style=\"text-align: right;\">\n",
       "      <th></th>\n",
       "      <th>name</th>\n",
       "      <th>major</th>\n",
       "      <th>socre</th>\n",
       "      <th>grade</th>\n",
       "      <th>level</th>\n",
       "    </tr>\n",
       "  </thead>\n",
       "  <tbody>\n",
       "    <tr>\n",
       "      <th>0</th>\n",
       "      <td>kim</td>\n",
       "      <td>컴공</td>\n",
       "      <td>85</td>\n",
       "      <td>1</td>\n",
       "      <td>B</td>\n",
       "    </tr>\n",
       "    <tr>\n",
       "      <th>1</th>\n",
       "      <td>lee</td>\n",
       "      <td>정보통신</td>\n",
       "      <td>70</td>\n",
       "      <td>2</td>\n",
       "      <td>C</td>\n",
       "    </tr>\n",
       "    <tr>\n",
       "      <th>2</th>\n",
       "      <td>park</td>\n",
       "      <td>경영</td>\n",
       "      <td>75</td>\n",
       "      <td>3</td>\n",
       "      <td>C</td>\n",
       "    </tr>\n",
       "    <tr>\n",
       "      <th>3</th>\n",
       "      <td>hong</td>\n",
       "      <td>컴공</td>\n",
       "      <td>90</td>\n",
       "      <td>4</td>\n",
       "      <td>A</td>\n",
       "    </tr>\n",
       "    <tr>\n",
       "      <th>4</th>\n",
       "      <td>jang</td>\n",
       "      <td>경영</td>\n",
       "      <td>95</td>\n",
       "      <td>5</td>\n",
       "      <td>A</td>\n",
       "    </tr>\n",
       "  </tbody>\n",
       "</table>\n",
       "</div>"
      ],
      "text/plain": [
       "   name major socre  grade level\n",
       "0   kim    컴공    85      1     B\n",
       "1   lee  정보통신    70      2     C\n",
       "2  park    경영    75      3     C\n",
       "3  hong    컴공    90      4     A\n",
       "4  jang    경영    95      5     A"
      ]
     },
     "execution_count": 6,
     "metadata": {},
     "output_type": "execute_result"
    }
   ],
   "source": [
    "data1= [names, majors,scores]\n",
    "df=pd.DataFrame(data1).T\n",
    "df.columns=['name','major','socre']\n",
    "df[['name']]\n",
    "df['grade']=[1,2,3,4,5]\n",
    "print(df)\n",
    "df['level']=['B','C','C','A','A']\n",
    "df"
   ]
  },
  {
   "cell_type": "code",
   "execution_count": 7,
   "metadata": {},
   "outputs": [],
   "source": [
    "# del df['grade']\n",
    "df.index=['a','b','c','d','e']\n",
    "\n"
   ]
  },
  {
   "cell_type": "code",
   "execution_count": 8,
   "metadata": {},
   "outputs": [
    {
     "name": "stdout",
     "output_type": "stream",
     "text": [
      "   name major\n",
      "a   kim    컴공\n",
      "b   lee  정보통신\n",
      "c  park    경영\n",
      "d  hong    컴공\n"
     ]
    }
   ],
   "source": [
    "# print(df.iloc[[1,3]])\n",
    "print(df.loc['a':'d',['name','major']])"
   ]
  },
  {
   "cell_type": "code",
   "execution_count": 9,
   "metadata": {},
   "outputs": [
    {
     "data": {
      "text/html": [
       "<div>\n",
       "<style scoped>\n",
       "    .dataframe tbody tr th:only-of-type {\n",
       "        vertical-align: middle;\n",
       "    }\n",
       "\n",
       "    .dataframe tbody tr th {\n",
       "        vertical-align: top;\n",
       "    }\n",
       "\n",
       "    .dataframe thead th {\n",
       "        text-align: right;\n",
       "    }\n",
       "</style>\n",
       "<table border=\"1\" class=\"dataframe\">\n",
       "  <thead>\n",
       "    <tr style=\"text-align: right;\">\n",
       "      <th></th>\n",
       "      <th>name</th>\n",
       "      <th>major</th>\n",
       "    </tr>\n",
       "  </thead>\n",
       "  <tbody>\n",
       "    <tr>\n",
       "      <th>a</th>\n",
       "      <td>kim</td>\n",
       "      <td>컴공</td>\n",
       "    </tr>\n",
       "    <tr>\n",
       "      <th>d</th>\n",
       "      <td>hong</td>\n",
       "      <td>컴공</td>\n",
       "    </tr>\n",
       "  </tbody>\n",
       "</table>\n",
       "</div>"
      ],
      "text/plain": [
       "   name major\n",
       "a   kim    컴공\n",
       "d  hong    컴공"
      ]
     },
     "execution_count": 9,
     "metadata": {},
     "output_type": "execute_result"
    }
   ],
   "source": [
    "df.loc[df.major=='컴공',['name','major']]"
   ]
  },
  {
   "cell_type": "code",
   "execution_count": 10,
   "metadata": {},
   "outputs": [
    {
     "name": "stdout",
     "output_type": "stream",
     "text": [
      "   name  kor  eng  math\n",
      "0   kim   80   85    80\n",
      "1   lee   85   90    75\n",
      "2  park   95  100    90\n",
      "3  hong   90   95    85\n",
      "4  jang   75   75    80\n"
     ]
    },
    {
     "data": {
      "text/html": [
       "<div>\n",
       "<style scoped>\n",
       "    .dataframe tbody tr th:only-of-type {\n",
       "        vertical-align: middle;\n",
       "    }\n",
       "\n",
       "    .dataframe tbody tr th {\n",
       "        vertical-align: top;\n",
       "    }\n",
       "\n",
       "    .dataframe thead th {\n",
       "        text-align: right;\n",
       "    }\n",
       "</style>\n",
       "<table border=\"1\" class=\"dataframe\">\n",
       "  <thead>\n",
       "    <tr style=\"text-align: right;\">\n",
       "      <th></th>\n",
       "      <th>name</th>\n",
       "      <th>kor</th>\n",
       "      <th>eng</th>\n",
       "      <th>math</th>\n",
       "      <th>total</th>\n",
       "      <th>avg</th>\n",
       "    </tr>\n",
       "  </thead>\n",
       "  <tbody>\n",
       "    <tr>\n",
       "      <th>0</th>\n",
       "      <td>kim</td>\n",
       "      <td>80</td>\n",
       "      <td>85</td>\n",
       "      <td>80</td>\n",
       "      <td>245</td>\n",
       "      <td>81.666667</td>\n",
       "    </tr>\n",
       "    <tr>\n",
       "      <th>1</th>\n",
       "      <td>lee</td>\n",
       "      <td>85</td>\n",
       "      <td>90</td>\n",
       "      <td>75</td>\n",
       "      <td>250</td>\n",
       "      <td>83.333333</td>\n",
       "    </tr>\n",
       "    <tr>\n",
       "      <th>2</th>\n",
       "      <td>park</td>\n",
       "      <td>95</td>\n",
       "      <td>100</td>\n",
       "      <td>90</td>\n",
       "      <td>285</td>\n",
       "      <td>95.000000</td>\n",
       "    </tr>\n",
       "    <tr>\n",
       "      <th>3</th>\n",
       "      <td>hong</td>\n",
       "      <td>90</td>\n",
       "      <td>95</td>\n",
       "      <td>85</td>\n",
       "      <td>270</td>\n",
       "      <td>90.000000</td>\n",
       "    </tr>\n",
       "    <tr>\n",
       "      <th>4</th>\n",
       "      <td>jang</td>\n",
       "      <td>75</td>\n",
       "      <td>75</td>\n",
       "      <td>80</td>\n",
       "      <td>230</td>\n",
       "      <td>76.666667</td>\n",
       "    </tr>\n",
       "  </tbody>\n",
       "</table>\n",
       "</div>"
      ],
      "text/plain": [
       "   name  kor  eng  math  total        avg\n",
       "0   kim   80   85    80    245  81.666667\n",
       "1   lee   85   90    75    250  83.333333\n",
       "2  park   95  100    90    285  95.000000\n",
       "3  hong   90   95    85    270  90.000000\n",
       "4  jang   75   75    80    230  76.666667"
      ]
     },
     "execution_count": 10,
     "metadata": {},
     "output_type": "execute_result"
    }
   ],
   "source": [
    "kor=[80,85,95,90,75]\n",
    "eng=[85,90,100,95,75]\n",
    "math=[80,75,90,85,80]\n",
    "names=['kim','lee','park','hong','jang']\n",
    "# name,kor,eng,math 리스트 값을 사용하여 dataFrame를 작성하시오\n",
    "# total=[kor]+[eng]+[math]\n",
    "# avg=total/3\n",
    "\n",
    "\n",
    "\n",
    "df=pd.DataFrame({'name':names,'kor':kor,'eng':eng,'math':math})\n",
    "print(df)\n",
    "df['total']=df.kor+df.eng+df.math\n",
    "df['avg']=df.total/3\n",
    "df"
   ]
  },
  {
   "cell_type": "code",
   "execution_count": 11,
   "metadata": {},
   "outputs": [
    {
     "name": "stdout",
     "output_type": "stream",
     "text": [
      "  name  kor\n",
      "1  lee   85\n",
      "   name   avg\n",
      "2  park  95.0\n",
      "3  hong  90.0\n",
      "   name  total        avg\n",
      "0   kim    245  81.666667\n",
      "1   lee    250  83.333333\n",
      "2  park    285  95.000000\n"
     ]
    },
    {
     "data": {
      "text/html": [
       "<div>\n",
       "<style scoped>\n",
       "    .dataframe tbody tr th:only-of-type {\n",
       "        vertical-align: middle;\n",
       "    }\n",
       "\n",
       "    .dataframe tbody tr th {\n",
       "        vertical-align: top;\n",
       "    }\n",
       "\n",
       "    .dataframe thead th {\n",
       "        text-align: right;\n",
       "    }\n",
       "</style>\n",
       "<table border=\"1\" class=\"dataframe\">\n",
       "  <thead>\n",
       "    <tr style=\"text-align: right;\">\n",
       "      <th></th>\n",
       "      <th>name</th>\n",
       "      <th>kor</th>\n",
       "      <th>eng</th>\n",
       "      <th>math</th>\n",
       "      <th>total</th>\n",
       "      <th>avg</th>\n",
       "      <th>합격여부</th>\n",
       "    </tr>\n",
       "  </thead>\n",
       "  <tbody>\n",
       "    <tr>\n",
       "      <th>0</th>\n",
       "      <td>kim</td>\n",
       "      <td>80</td>\n",
       "      <td>85</td>\n",
       "      <td>80</td>\n",
       "      <td>245</td>\n",
       "      <td>81.666667</td>\n",
       "      <td>불합격</td>\n",
       "    </tr>\n",
       "    <tr>\n",
       "      <th>1</th>\n",
       "      <td>lee</td>\n",
       "      <td>85</td>\n",
       "      <td>90</td>\n",
       "      <td>75</td>\n",
       "      <td>250</td>\n",
       "      <td>83.333333</td>\n",
       "      <td>불합격</td>\n",
       "    </tr>\n",
       "    <tr>\n",
       "      <th>2</th>\n",
       "      <td>park</td>\n",
       "      <td>95</td>\n",
       "      <td>100</td>\n",
       "      <td>90</td>\n",
       "      <td>285</td>\n",
       "      <td>95.000000</td>\n",
       "      <td>합격</td>\n",
       "    </tr>\n",
       "    <tr>\n",
       "      <th>3</th>\n",
       "      <td>hong</td>\n",
       "      <td>90</td>\n",
       "      <td>95</td>\n",
       "      <td>85</td>\n",
       "      <td>270</td>\n",
       "      <td>90.000000</td>\n",
       "      <td>합격</td>\n",
       "    </tr>\n",
       "    <tr>\n",
       "      <th>4</th>\n",
       "      <td>jang</td>\n",
       "      <td>75</td>\n",
       "      <td>75</td>\n",
       "      <td>80</td>\n",
       "      <td>230</td>\n",
       "      <td>76.666667</td>\n",
       "      <td>불합격</td>\n",
       "    </tr>\n",
       "  </tbody>\n",
       "</table>\n",
       "</div>"
      ],
      "text/plain": [
       "   name  kor  eng  math  total        avg 합격여부\n",
       "0   kim   80   85    80    245  81.666667  불합격\n",
       "1   lee   85   90    75    250  83.333333  불합격\n",
       "2  park   95  100    90    285  95.000000   합격\n",
       "3  hong   90   95    85    270  90.000000   합격\n",
       "4  jang   75   75    80    230  76.666667  불합격"
      ]
     },
     "execution_count": 11,
     "metadata": {},
     "output_type": "execute_result"
    }
   ],
   "source": [
    "#이름이 lee인 사람의 국어 점수를 검색하라.\n",
    "#평균이 90점 이상인 사람의 이름과 평균을 검색하라.\n",
    "#인덱스를 사용하여 1행~3행까지 이름, total, avg를 검색하라\n",
    "\n",
    "print(df.loc[df.name=='lee',['name','kor']])\n",
    "print(df.loc[df.avg>=90,['name','avg']])\n",
    "print(df.iloc[:3,[0,4,5]])\n",
    "df['합격여부']=['합격' if a>=90 else '불합격' for a in df['avg']]\n",
    "df"
   ]
  },
  {
   "cell_type": "code",
   "execution_count": 12,
   "metadata": {},
   "outputs": [
    {
     "name": "stdout",
     "output_type": "stream",
     "text": [
      "[0, 1, 2, 3, 4, 5, 6, 7, 8, 9]\n",
      "[0, 1, 2, 3, 4, 5, 6, 7, 8, 9]\n",
      "[1, 3, 5, 7, 9]\n",
      "[0, 99, 2, 99, 4, 99, 6, 99, 8, 99]\n",
      "[[0, 10, 20, 30, 40], [0, 11, 22, 33, 44], [0, 12, 24, 36, 48], [0, 13, 26, 39, 52], [0, 14, 28, 42, 56]]\n"
     ]
    }
   ],
   "source": [
    "a=[]\n",
    "for i in range(10):\n",
    "    a.append(i)\n",
    "print(a)\n",
    "\n",
    "b=[i for i in range(10)]\n",
    "print(b)\n",
    "\n",
    "c=[i for i in range(10) if i%2==1]\n",
    "print(c)\n",
    "\n",
    "d=[i if i%2==0 else 99 for i in range(10)]\n",
    "print(d)\n",
    "\n",
    "e=[[i*j for j in range(5)] for i in range(10,15)]\n",
    "print(e)"
   ]
  },
  {
   "cell_type": "code",
   "execution_count": 13,
   "metadata": {},
   "outputs": [
    {
     "data": {
      "text/html": [
       "<div>\n",
       "<style scoped>\n",
       "    .dataframe tbody tr th:only-of-type {\n",
       "        vertical-align: middle;\n",
       "    }\n",
       "\n",
       "    .dataframe tbody tr th {\n",
       "        vertical-align: top;\n",
       "    }\n",
       "\n",
       "    .dataframe thead th {\n",
       "        text-align: right;\n",
       "    }\n",
       "</style>\n",
       "<table border=\"1\" class=\"dataframe\">\n",
       "  <thead>\n",
       "    <tr style=\"text-align: right;\">\n",
       "      <th></th>\n",
       "      <th>kor</th>\n",
       "      <th>eng</th>\n",
       "      <th>math</th>\n",
       "      <th>total</th>\n",
       "      <th>avg</th>\n",
       "    </tr>\n",
       "  </thead>\n",
       "  <tbody>\n",
       "    <tr>\n",
       "      <th>count</th>\n",
       "      <td>5.000000</td>\n",
       "      <td>5.000000</td>\n",
       "      <td>5.000000</td>\n",
       "      <td>5.000000</td>\n",
       "      <td>5.000000</td>\n",
       "    </tr>\n",
       "    <tr>\n",
       "      <th>mean</th>\n",
       "      <td>85.000000</td>\n",
       "      <td>89.000000</td>\n",
       "      <td>82.000000</td>\n",
       "      <td>256.000000</td>\n",
       "      <td>85.333333</td>\n",
       "    </tr>\n",
       "    <tr>\n",
       "      <th>std</th>\n",
       "      <td>7.905694</td>\n",
       "      <td>9.617692</td>\n",
       "      <td>5.700877</td>\n",
       "      <td>21.621748</td>\n",
       "      <td>7.207249</td>\n",
       "    </tr>\n",
       "    <tr>\n",
       "      <th>min</th>\n",
       "      <td>75.000000</td>\n",
       "      <td>75.000000</td>\n",
       "      <td>75.000000</td>\n",
       "      <td>230.000000</td>\n",
       "      <td>76.666667</td>\n",
       "    </tr>\n",
       "    <tr>\n",
       "      <th>25%</th>\n",
       "      <td>80.000000</td>\n",
       "      <td>85.000000</td>\n",
       "      <td>80.000000</td>\n",
       "      <td>245.000000</td>\n",
       "      <td>81.666667</td>\n",
       "    </tr>\n",
       "    <tr>\n",
       "      <th>50%</th>\n",
       "      <td>85.000000</td>\n",
       "      <td>90.000000</td>\n",
       "      <td>80.000000</td>\n",
       "      <td>250.000000</td>\n",
       "      <td>83.333333</td>\n",
       "    </tr>\n",
       "    <tr>\n",
       "      <th>75%</th>\n",
       "      <td>90.000000</td>\n",
       "      <td>95.000000</td>\n",
       "      <td>85.000000</td>\n",
       "      <td>270.000000</td>\n",
       "      <td>90.000000</td>\n",
       "    </tr>\n",
       "    <tr>\n",
       "      <th>max</th>\n",
       "      <td>95.000000</td>\n",
       "      <td>100.000000</td>\n",
       "      <td>90.000000</td>\n",
       "      <td>285.000000</td>\n",
       "      <td>95.000000</td>\n",
       "    </tr>\n",
       "  </tbody>\n",
       "</table>\n",
       "</div>"
      ],
      "text/plain": [
       "             kor         eng       math       total        avg\n",
       "count   5.000000    5.000000   5.000000    5.000000   5.000000\n",
       "mean   85.000000   89.000000  82.000000  256.000000  85.333333\n",
       "std     7.905694    9.617692   5.700877   21.621748   7.207249\n",
       "min    75.000000   75.000000  75.000000  230.000000  76.666667\n",
       "25%    80.000000   85.000000  80.000000  245.000000  81.666667\n",
       "50%    85.000000   90.000000  80.000000  250.000000  83.333333\n",
       "75%    90.000000   95.000000  85.000000  270.000000  90.000000\n",
       "max    95.000000  100.000000  90.000000  285.000000  95.000000"
      ]
     },
     "execution_count": 13,
     "metadata": {},
     "output_type": "execute_result"
    }
   ],
   "source": [
    "df.index=['a','b','c','d','e']\n",
    "df.describe()"
   ]
  },
  {
   "cell_type": "code",
   "execution_count": 14,
   "metadata": {},
   "outputs": [
    {
     "name": "stdout",
     "output_type": "stream",
     "text": [
      "name     kimleeparkhongjang\n",
      "kor                     425\n",
      "eng                     445\n",
      "math                    410\n",
      "total                  1280\n",
      "avg              426.666667\n",
      "합격여부          불합격불합격합격합격불합격\n",
      "dtype: object\n",
      "name          hong\n",
      "kor             75\n",
      "eng             75\n",
      "math            75\n",
      "total          230\n",
      "avg      76.666667\n",
      "합격여부           불합격\n",
      "dtype: object\n",
      "name     park\n",
      "kor        95\n",
      "eng       100\n",
      "math       90\n",
      "total     285\n",
      "avg      95.0\n",
      "합격여부       합격\n",
      "dtype: object\n",
      "   name  kor  eng  math  total        avg 합격여부\n",
      "a   kim   80   85    80    245  81.666667  불합격\n",
      "b   lee   85   90    75    250  83.333333  불합격\n",
      "c  park   95  100    90    285  95.000000   합격\n",
      "d  hong   90   95    85    270  90.000000   합격\n",
      "e  jang   75   75    80    230  76.666667  불합격\n"
     ]
    }
   ],
   "source": [
    "print(df.sum(axis=0))\n",
    "print(df.min())\n",
    "print(df.max())\n",
    "print(df)"
   ]
  },
  {
   "cell_type": "code",
   "execution_count": 15,
   "metadata": {},
   "outputs": [
    {
     "name": "stdout",
     "output_type": "stream",
     "text": [
      "['Supplier Name', 'Invoice Number', 'Part Number', 'Cost', 'Purchase Date']\n",
      "['A', '001-1001', '2341', '\"$500', '000\"', '2014-01-20']\n",
      "['A', '001-1001', '5467', '500000', '2014-01-20']\n",
      "['A', '001-1001', '5407', '750000', '2014-01-20']\n",
      "['A', '001-1001', '2341', '750000', '2014-01-20']\n",
      "['B', '50-9501', '7009', '250000', '2018-01-30']\n",
      "['B', '50-9501', '7009', '250000', '2018-01-30']\n",
      "['B', '50-9505', '6650', '125000', '2017-02-03']\n",
      "['B', '50-9505', '6650', '125000', '2017-02-03']\n",
      "['C', '920-4803', '3321', '615000', '2017-02-03']\n",
      "['C', '920-4804', '3321', '615000', '2017-02-10']\n",
      "['C', '920-4805', '3321', '615000', '2017-02-17']\n",
      "['C', '920-4806', '3321', '615000', '2017-02-24']\n"
     ]
    }
   ],
   "source": [
    "#python open()함수\n",
    "# csv모듈\n",
    "# pandas 모듈\n",
    "\n",
    "infilepath=\"data/input.csv\"\n",
    "outfilepath='data/output1.csv'\n",
    "\n",
    "with open(infilepath,'r',newline='') as reader:\n",
    "    with open(outfilepath,'w',newline=\"\") as writer:\n",
    "        header=reader.readline()\n",
    "        header=header.strip()\n",
    "        header_list=header.split(',')\n",
    "        print(header_list)\n",
    "        # print(type(header_list))\n",
    "\n",
    "        writer.write(','.join(header_list)+\"\\n\")\n",
    "\n",
    "        for row in reader:\n",
    "            row = row.strip()\n",
    "            row_list=row.split(',')\n",
    "            print(row_list)\n",
    "            writer.write(','.join(row_list)+\"\\n\")\n"
   ]
  },
  {
   "cell_type": "code",
   "execution_count": 16,
   "metadata": {},
   "outputs": [],
   "source": [
    "df=pd.read_csv(infilepath)\n",
    "# print(df)\n",
    "df['Cost']=df['Cost'].str.strip('$').str.replace(\",\",\"\").astype(float)\n",
    "# print(df)\n",
    "\n",
    "result=df.loc[(df['Supplier Name']=='A') &(df['Cost']>700000),:]\n",
    "result\n",
    "result.to_csv(\"data/output3.csv\",index=False)"
   ]
  },
  {
   "cell_type": "code",
   "execution_count": 17,
   "metadata": {},
   "outputs": [
    {
     "name": "stdout",
     "output_type": "stream",
     "text": [
      "   Supplier Name Invoice Number  Part Number      Cost Purchase Date\n",
      "6              B        50-9505         6650  125000.0    2017-02-03\n",
      "7              B        50-9505         6650  125000.0    2017-02-03\n",
      "8              C       920-4803         3321  615000.0    2017-02-03\n",
      "9              C       920-4804         3321  615000.0    2017-02-10\n",
      "10             C       920-4805         3321  615000.0    2017-02-17\n",
      "11             C       920-4806         3321  615000.0    2017-02-24\n"
     ]
    }
   ],
   "source": [
    "#Supplier Name가 C 이거나 Cost가 250000 미만인것을 선택하라.\n",
    "\n",
    "df=pd.read_csv(infilepath)\n",
    "# print(df)\n",
    "df['Cost']=df['Cost'].str.strip('$').str.replace(\",\",\"\").astype(float)\n",
    "# print(df)\n",
    "\n",
    "result=df.loc[(df['Supplier Name']=='C') | (df['Cost']<250000),:]\n",
    "print(result)\n",
    "result.to_csv(\"data/output4.csv\",index=False)"
   ]
  },
  {
   "cell_type": "code",
   "execution_count": 18,
   "metadata": {},
   "outputs": [
    {
     "name": "stdout",
     "output_type": "stream",
     "text": [
      "                   Cost\n",
      "Supplier Name          \n",
      "A              625000.0\n",
      "B              187500.0\n",
      "C              615000.0\n"
     ]
    }
   ],
   "source": [
    "#Supplier Name 별 Cost의 평균을 구하라\n",
    "df=pd.read_csv(infilepath)\n",
    "# print(df)\n",
    "df['Cost']=df['Cost'].str.strip('$').str.replace(\",\",\"\").astype(float)\n",
    "# print(df)\n",
    "df2=df[['Supplier Name','Cost']]\n",
    "result=df2.groupby('Supplier Name').mean()\n",
    "print(result)\n",
    "result.to_csv(\"data/output5.csv\")\n",
    "# print(result)\n",
    "# result.to_csv(\"data/output5.csv\",index=False)"
   ]
  },
  {
   "cell_type": "code",
   "execution_count": 19,
   "metadata": {},
   "outputs": [],
   "source": [
    "# kk=['red','blue','green']\n",
    "# str=','.join(kk)\n",
    "# print(str)"
   ]
  },
  {
   "cell_type": "code",
   "execution_count": 20,
   "metadata": {},
   "outputs": [
    {
     "name": "stdout",
     "output_type": "stream",
     "text": [
      "[',']\n"
     ]
    }
   ],
   "source": [
    "# ll=str.split(',')\n",
    "# print(ll)"
   ]
  },
  {
   "cell_type": "code",
   "execution_count": 22,
   "metadata": {},
   "outputs": [
    {
     "name": "stdout",
     "output_type": "stream",
     "text": [
      "['Supplier Name', 'Invoice Number', 'Part Number', 'Cost', 'Purchase Date']\n",
      "['A', '001-1001', '5407', 750000.0, '2014-01-20']\n",
      "['A', '001-1001', '2341', 750000.0, '2014-01-20']\n"
     ]
    }
   ],
   "source": [
    "#python open 조건 검색 행만 선택하기\n",
    "#supplier name이 A이고 cost가 700000이상인 데이터 선택\n",
    "with open(infilepath,'r',newline='') as reader:\n",
    "    with open(outfilepath,'w',newline=\"\") as writer:\n",
    "        header=reader.readline()\n",
    "        header=header.strip()\n",
    "        header_list=header.split(',')\n",
    "        print(header_list)\n",
    "        # print(type(header_list))\n",
    "\n",
    "        writer.write(','.join(header_list)+\"\\n\")\n",
    "\n",
    "        for row in reader:\n",
    "            row=row.strip().replace('$',\"\").replace('\"','')\n",
    "            \n",
    "            row_list=row.split(',')\n",
    "            \n",
    "                \n",
    "            if len(row_list)==6:\n",
    "                row_list[3] = float(row_list[3]+row_list[4])\n",
    "                row_list[4]=row_list[5]\n",
    "                del row_list[5]\n",
    "            else :\n",
    "                row_list[3]=float(row_list[3])\n",
    "            \n",
    "            if (row_list[0]=='A') &(row_list[3]>=700000):\n",
    "                writer.write(','.join(map(str,row_list))+\"\\n\")\n",
    "                print(row_list)\n",
    "         \n"
   ]
  }
 ],
 "metadata": {
  "kernelspec": {
   "display_name": "base",
   "language": "python",
   "name": "python3"
  },
  "language_info": {
   "codemirror_mode": {
    "name": "ipython",
    "version": 3
   },
   "file_extension": ".py",
   "mimetype": "text/x-python",
   "name": "python",
   "nbconvert_exporter": "python",
   "pygments_lexer": "ipython3",
   "version": "3.10.9"
  },
  "orig_nbformat": 4
 },
 "nbformat": 4,
 "nbformat_minor": 2
}
