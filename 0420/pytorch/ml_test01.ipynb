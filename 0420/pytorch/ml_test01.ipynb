{
 "cells": [
  {
   "cell_type": "code",
   "execution_count": 1,
   "metadata": {},
   "outputs": [],
   "source": [
    "import torch"
   ]
  },
  {
   "cell_type": "code",
   "execution_count": 4,
   "metadata": {},
   "outputs": [
    {
     "name": "stdout",
     "output_type": "stream",
     "text": [
      "tensor([[1, 2],\n",
      "        [3, 4]])\n",
      "tensor([[1., 2.],\n",
      "        [3., 4.]], dtype=torch.float64)\n"
     ]
    }
   ],
   "source": [
    "t1=torch.tensor([[1,2],[3,4]])\n",
    "# t2=torch.tensor([[1,2],[3,4]], device='cuda:0')\n",
    "t3=torch.tensor([[1,2],[3,4]], dtype=torch.float64)\n",
    "print(t1)\n",
    "# print(t2)\n",
    "print(t3)"
   ]
  },
  {
   "cell_type": "code",
   "execution_count": 6,
   "metadata": {},
   "outputs": [
    {
     "name": "stdout",
     "output_type": "stream",
     "text": [
      "tensor([[1., 2.],\n",
      "        [3., 4.]])\n",
      "tensor([[1, 2],\n",
      "        [3, 4]])\n",
      "tensor([[1, 2],\n",
      "        [3, 4]], dtype=torch.uint8)\n"
     ]
    }
   ],
   "source": [
    "t4=torch.FloatTensor([[1,2],[3,4]])\n",
    "t5=torch.LongTensor([[1,2],[3,4]])\n",
    "t6=torch.ByteTensor([[1,2],[3,4]])\n",
    "print(t4)\n",
    "print(t5)\n",
    "print(t6)"
   ]
  },
  {
   "cell_type": "code",
   "execution_count": 7,
   "metadata": {},
   "outputs": [
    {
     "name": "stdout",
     "output_type": "stream",
     "text": [
      "[[1 2]\n",
      " [3 4]]\n",
      "<class 'numpy.ndarray'>\n"
     ]
    }
   ],
   "source": [
    "import numpy as np\n",
    "x=np.array([[1,2],[3,4]])\n",
    "print(x)\n",
    "print(type(x))"
   ]
  },
  {
   "cell_type": "code",
   "execution_count": 8,
   "metadata": {},
   "outputs": [
    {
     "name": "stdout",
     "output_type": "stream",
     "text": [
      "tensor([[1, 2],\n",
      "        [3, 4]], dtype=torch.int32) <class 'torch.Tensor'>\n"
     ]
    }
   ],
   "source": [
    "t=torch.from_numpy(x)\n",
    "print(t, type(t))"
   ]
  },
  {
   "cell_type": "code",
   "execution_count": 9,
   "metadata": {},
   "outputs": [
    {
     "name": "stdout",
     "output_type": "stream",
     "text": [
      "[[1 2]\n",
      " [3 4]] <class 'numpy.ndarray'>\n"
     ]
    }
   ],
   "source": [
    "nx=t.numpy()\n",
    "print(nx, type(nx))\n"
   ]
  },
  {
   "cell_type": "code",
   "execution_count": 18,
   "metadata": {},
   "outputs": [
    {
     "name": "stdout",
     "output_type": "stream",
     "text": [
      "tensor([[1., 2., 3.],\n",
      "        [4., 5., 6.]])\n",
      "tensor([[1, 2, 3],\n",
      "        [4, 5, 6]])\n",
      "tensor([[1, 2, 3],\n",
      "        [4, 5, 6]], dtype=torch.uint8)\n",
      "tensor([[1., 2., 3.],\n",
      "        [4., 5., 6.]])\n"
     ]
    }
   ],
   "source": [
    "ft=torch.FloatTensor([[1,2,3],[4,5,6]])\n",
    "print(ft)\n",
    "lt=ft.long()\n",
    "print(lt)\n",
    "bt=ft.byte()\n",
    "print(bt)\n",
    "ft1=lt.float()\n",
    "print(ft1)"
   ]
  },
  {
   "cell_type": "code",
   "execution_count": 29,
   "metadata": {},
   "outputs": [
    {
     "name": "stdout",
     "output_type": "stream",
     "text": [
      "tensor([[[[ 1,  2],\n",
      "          [ 3,  4],\n",
      "          [ 5,  6]],\n",
      "\n",
      "         [[ 7,  8],\n",
      "          [ 9, 10],\n",
      "          [11, 12]]]])\n"
     ]
    }
   ],
   "source": [
    "x=torch.tensor([[[[1,2],[3,4],[5,6]],[[7,8],[9,10],[11,12]]]])\n",
    "print(x)"
   ]
  },
  {
   "cell_type": "code",
   "execution_count": 30,
   "metadata": {},
   "outputs": [
    {
     "name": "stdout",
     "output_type": "stream",
     "text": [
      "torch.Size([1, 2, 3, 2])\n",
      "torch.Size([1, 2, 3, 2])\n",
      "4\n",
      "1\n",
      "1\n",
      "2\n",
      "2\n",
      "3\n",
      "2\n"
     ]
    }
   ],
   "source": [
    "print(x.size())\n",
    "print(x.shape)\n",
    "print(x.dim())\n",
    "print(x.size(0))\n",
    "print(x.shape[0])\n",
    "print(x.size(1))\n",
    "print(x.shape[1])\n",
    "print(x.size(2))\n",
    "print(x.shape[-1])\n"
   ]
  },
  {
   "cell_type": "code",
   "execution_count": 38,
   "metadata": {},
   "outputs": [
    {
     "name": "stdout",
     "output_type": "stream",
     "text": [
      "tensor([[1., 2.],\n",
      "        [3., 4.]])\n",
      "tensor([[2., 2.],\n",
      "        [4., 4.]])\n"
     ]
    }
   ],
   "source": [
    "a=torch.FloatTensor([[1,2],[3,4]])\n",
    "b=torch.FloatTensor([[2,2],[4,4]])\n",
    "print(a)\n",
    "print(b)"
   ]
  },
  {
   "cell_type": "code",
   "execution_count": 34,
   "metadata": {},
   "outputs": [
    {
     "name": "stdout",
     "output_type": "stream",
     "text": [
      "tensor([[3., 4.],\n",
      "        [7., 8.]])\n",
      "tensor([[-1.,  0.],\n",
      "        [-1.,  0.]])\n",
      "tensor([[ 2.,  4.],\n",
      "        [12., 16.]])\n",
      "tensor([[0.5000, 1.0000],\n",
      "        [0.7500, 1.0000]])\n",
      "tensor([[False,  True],\n",
      "        [False,  True]])\n",
      "tensor([[ True, False],\n",
      "        [ True, False]])\n",
      "tensor([[  1.,   4.],\n",
      "        [ 81., 256.]])\n"
     ]
    }
   ],
   "source": [
    "print(a+b)\n",
    "print(a-b)\n",
    "print(a*b)\n",
    "print(a/b)\n",
    "print(a==b)\n",
    "print(a!=b)\n",
    "print(a**b)"
   ]
  },
  {
   "cell_type": "code",
   "execution_count": 37,
   "metadata": {},
   "outputs": [
    {
     "name": "stdout",
     "output_type": "stream",
     "text": [
      "tensor([[1., 2.],\n",
      "        [3., 4.]])\n",
      "tensor([[ 2.,  4.],\n",
      "        [12., 16.]])\n",
      "tensor([[1., 2.],\n",
      "        [3., 4.]])\n",
      "tensor([[ 2.,  4.],\n",
      "        [12., 16.]])\n",
      "tensor([[ 2.,  4.],\n",
      "        [12., 16.]])\n"
     ]
    }
   ],
   "source": [
    "print(a)\n",
    "print(a.mul(b))\n",
    "print(a)\n",
    "print(a.mul_(b))\n",
    "print(a)"
   ]
  },
  {
   "cell_type": "code",
   "execution_count": 42,
   "metadata": {},
   "outputs": [
    {
     "name": "stdout",
     "output_type": "stream",
     "text": [
      "tensor([[1., 2.],\n",
      "        [3., 4.]])\n",
      "tensor(10.)\n",
      "tensor([4., 6.])\n",
      "tensor([3., 7.])\n",
      "tensor(2.5000)\n",
      "tensor([2., 3.])\n",
      "tensor([1.5000, 3.5000])\n"
     ]
    }
   ],
   "source": [
    "x=a\n",
    "print(x)\n",
    "print(x.sum())\n",
    "print(x.sum(dim=0))\n",
    "print(x.sum(dim=1))\n",
    "print(x.mean())\n",
    "print(x.mean(dim=0))\n",
    "print(x.mean(dim=1))"
   ]
  },
  {
   "cell_type": "code",
   "execution_count": 45,
   "metadata": {},
   "outputs": [
    {
     "name": "stdout",
     "output_type": "stream",
     "text": [
      "tensor([[2., 3.],\n",
      "        [4., 5.]])\n",
      "torch.Size([2, 2])\n"
     ]
    }
   ],
   "source": [
    "y=1\n",
    "z=x+y\n",
    "print(z)\n",
    "print(z.size())"
   ]
  },
  {
   "cell_type": "code",
   "execution_count": 47,
   "metadata": {},
   "outputs": [
    {
     "name": "stdout",
     "output_type": "stream",
     "text": [
      "torch.Size([2])\n",
      "tensor([[4., 6.],\n",
      "        [6., 8.]])\n",
      "torch.Size([2, 2])\n"
     ]
    }
   ],
   "source": [
    "y=torch.FloatTensor([3,4])\n",
    "print(y.size())\n",
    "z=x+y\n",
    "print(z)\n",
    "print(z.size())"
   ]
  },
  {
   "cell_type": "code",
   "execution_count": 51,
   "metadata": {},
   "outputs": [
    {
     "name": "stdout",
     "output_type": "stream",
     "text": [
      "torch.Size([1, 2])\n",
      "torch.Size([2, 1])\n",
      "tensor([[4., 5.],\n",
      "        [5., 6.]])\n",
      "torch.Size([2, 2])\n"
     ]
    }
   ],
   "source": [
    "x=torch.FloatTensor([[1,2]])\n",
    "y=torch.FloatTensor([[3],[4]])\n",
    "print(x.size())\n",
    "print(y.size())\n",
    "z=x+y\n",
    "print(z)\n",
    "print(z.size())"
   ]
  },
  {
   "cell_type": "code",
   "execution_count": 55,
   "metadata": {},
   "outputs": [
    {
     "data": {
      "text/plain": [
       "array([[ 1,  2,  3,  4],\n",
       "       [ 5,  6,  7,  8],\n",
       "       [ 9, 10, 11, 12]])"
      ]
     },
     "execution_count": 55,
     "metadata": {},
     "output_type": "execute_result"
    }
   ],
   "source": [
    "a=np.arange(1,13).reshape(3,4)\n",
    "a"
   ]
  },
  {
   "cell_type": "code",
   "execution_count": 58,
   "metadata": {},
   "outputs": [
    {
     "name": "stdout",
     "output_type": "stream",
     "text": [
      "tensor([[[ 1.,  2.],\n",
      "         [ 3.,  4.]],\n",
      "\n",
      "        [[ 5.,  6.],\n",
      "         [ 7.,  8.]],\n",
      "\n",
      "        [[ 9., 10.],\n",
      "         [11., 12.]]])\n",
      "torch.Size([3, 2, 2])\n",
      "<built-in method size of Tensor object at 0x000001E7AE253D30>\n"
     ]
    }
   ],
   "source": [
    "x=torch.FloatTensor([[[1,2],[3,4]],[[5,6],[7,8]],[[9,10],[11,12]]])\n",
    "y=torch.FloatTensor([1,2,3,4,5,6,7,8,9,10,11,12])\n",
    "print(x)\n",
    "print(x.size())\n",
    "print(y.size)"
   ]
  },
  {
   "cell_type": "code",
   "execution_count": 60,
   "metadata": {},
   "outputs": [
    {
     "name": "stdout",
     "output_type": "stream",
     "text": [
      "tensor([[ 1.,  2.,  3.,  4.],\n",
      "        [ 5.,  6.,  7.,  8.],\n",
      "        [ 9., 10., 11., 12.]])\n",
      "tensor([[ 1.,  2.,  3.,  4.],\n",
      "        [ 5.,  6.,  7.,  8.],\n",
      "        [ 9., 10., 11., 12.]])\n",
      "tensor([[[ 1.,  2.],\n",
      "         [ 3.,  4.],\n",
      "         [ 5.,  6.]],\n",
      "\n",
      "        [[ 7.,  8.],\n",
      "         [ 9., 10.],\n",
      "         [11., 12.]]])\n"
     ]
    }
   ],
   "source": [
    "print(x.view(3,4))\n",
    "print(y.view(3,4))\n",
    "print(y.view(2,3,2))"
   ]
  },
  {
   "cell_type": "code",
   "execution_count": 66,
   "metadata": {},
   "outputs": [
    {
     "name": "stdout",
     "output_type": "stream",
     "text": [
      "tensor([[ 1.,  2.,  3.,  4.],\n",
      "        [ 5.,  6.,  7.,  8.],\n",
      "        [ 9., 10., 11., 12.]])\n",
      "torch.Size([3, 4])\n",
      "torch.Size([3, 1, 4])\n",
      "torch.Size([3, 4])\n"
     ]
    }
   ],
   "source": [
    "# squeeze : 텐서에서 차원이 1인 차원을 제거\n",
    "y=y.view(3,1,4)\n",
    "print(y.squeeze())\n",
    "print(y.squeeze().size())\n",
    "print(y.squeeze(0).size()) # 차원이 1인 차원 제거(x)\n",
    "print(y.squeeze(1).size())# 차원이 1인 차원 제거(o)"
   ]
  },
  {
   "cell_type": "code",
   "execution_count": 75,
   "metadata": {},
   "outputs": [
    {
     "name": "stdout",
     "output_type": "stream",
     "text": [
      "tensor([[1., 2.],\n",
      "        [3., 4.]])\n",
      "torch.Size([2, 2])\n",
      "tensor([[[1.],\n",
      "         [2.]],\n",
      "\n",
      "        [[3.],\n",
      "         [4.]]])\n",
      "tensor([[[1., 2.]],\n",
      "\n",
      "        [[3., 4.]]])\n",
      "torch.Size([2, 2, 1])\n",
      "tensor([[[1.],\n",
      "         [2.]],\n",
      "\n",
      "        [[3.],\n",
      "         [4.]]])\n",
      "tensor([[[1.],\n",
      "         [2.]],\n",
      "\n",
      "        [[3.],\n",
      "         [4.]]])\n"
     ]
    }
   ],
   "source": [
    "x=torch.FloatTensor([[1,2],[3,4]])\n",
    "print(x)\n",
    "print(x.size())\n",
    "print(x.unsqueeze(2))\n",
    "print(x.unsqueeze(1))#[2,1,2]\n",
    "print(x.unsqueeze(2).size()) #[2,2,1]\n",
    "print(x.unsqueeze(-1)) #[2,2,1]\n",
    "print(x.reshape(2,2,1))#[2,2,1]"
   ]
  },
  {
   "cell_type": "code",
   "execution_count": 78,
   "metadata": {},
   "outputs": [
    {
     "name": "stdout",
     "output_type": "stream",
     "text": [
      "tensor([[[ 1.,  2.],\n",
      "         [ 3.,  4.]],\n",
      "\n",
      "        [[ 5.,  6.],\n",
      "         [ 7.,  8.]],\n",
      "\n",
      "        [[ 9., 10.],\n",
      "         [11., 12.]]])\n",
      "tensor([[1., 2.],\n",
      "        [3., 4.]])\n",
      "tensor([[1., 2.],\n",
      "        [3., 4.]])\n",
      "tensor([[1., 2.],\n",
      "        [3., 4.]])\n",
      "tensor([[ 9., 10.],\n",
      "        [11., 12.]])\n",
      "tensor([[ 9., 10.],\n",
      "        [11., 12.]])\n",
      "tensor([[ 9., 10.],\n",
      "        [11., 12.]])\n",
      "tensor([[ 1.,  2.],\n",
      "        [ 5.,  6.],\n",
      "        [ 9., 10.]])\n",
      "torch.Size([2, 2, 2])\n",
      "torch.Size([3, 1, 2])\n",
      "torch.Size([3, 1, 2])\n"
     ]
    }
   ],
   "source": [
    "x=y.view(3,2,2)\n",
    "print(x)\n",
    "print(x[0])\n",
    "print(x[0,:])\n",
    "print(x[0,:,:])\n",
    "print(x[-1])\n",
    "print(x[-1,:])\n",
    "print(x[-1,:,:])\n",
    "print(x[:,0,:])\n",
    "print(x[1:3,:,:].size())\n",
    "print(x[:,:1,:].size())\n",
    "print(x[:,:-1,:].size())"
   ]
  },
  {
   "cell_type": "code",
   "execution_count": 89,
   "metadata": {},
   "outputs": [
    {
     "name": "stdout",
     "output_type": "stream",
     "text": [
      "tensor([[14, 22, 36, 37],\n",
      "        [ 8,  9,  5, 25],\n",
      "        [ 0, 10, 20,  7],\n",
      "        [ 3, 23, 30, 39],\n",
      "        [38, 15, 19, 27],\n",
      "        [28, 11, 26, 32],\n",
      "        [ 1, 35, 13, 24],\n",
      "        [17,  6,  2,  4],\n",
      "        [18, 33, 29, 34],\n",
      "        [31, 12, 21, 16]])\n",
      "torch.Size([10, 4])\n",
      "torch.Size([4, 4])\n",
      "torch.Size([4, 4])\n",
      "torch.Size([2, 4])\n"
     ]
    }
   ],
   "source": [
    "x=torch.randperm(40)\n",
    "x=x.view(10,-1)\n",
    "print(x)\n",
    "print(x.size())\n",
    "split=x.split(4, dim=0)\n",
    "for s in split:\n",
    "    print(s.size())"
   ]
  },
  {
   "cell_type": "code",
   "execution_count": 93,
   "metadata": {},
   "outputs": [
    {
     "name": "stdout",
     "output_type": "stream",
     "text": [
      "(tensor([[14, 22, 36, 37],\n",
      "        [ 8,  9,  5, 25],\n",
      "        [ 0, 10, 20,  7],\n",
      "        [ 3, 23, 30, 39],\n",
      "        [38, 15, 19, 27]]), tensor([[28, 11, 26, 32],\n",
      "        [ 1, 35, 13, 24],\n",
      "        [17,  6,  2,  4],\n",
      "        [18, 33, 29, 34],\n",
      "        [31, 12, 21, 16]]))\n",
      "torch.Size([5, 4])\n",
      "torch.Size([5, 4])\n"
     ]
    }
   ],
   "source": [
    "chunks=x.chunk(2, dim=0)\n",
    "print(chunks)\n",
    "for c in chunks:\n",
    "    print(c.size())"
   ]
  },
  {
   "cell_type": "code",
   "execution_count": 94,
   "metadata": {},
   "outputs": [
    {
     "name": "stdout",
     "output_type": "stream",
     "text": [
      "torch.Size([10, 4])\n"
     ]
    }
   ],
   "source": [
    "print(x.size())"
   ]
  },
  {
   "cell_type": "code",
   "execution_count": 95,
   "metadata": {},
   "outputs": [
    {
     "name": "stdout",
     "output_type": "stream",
     "text": [
      "torch.Size([3, 2, 2])\n"
     ]
    }
   ],
   "source": [
    "x=torch.FloatTensor([[[1,1],[2,2]],[[3,3],[4,4]],[[5,5],[6,6]]])\n",
    "print(x.size())"
   ]
  },
  {
   "cell_type": "code",
   "execution_count": 97,
   "metadata": {},
   "outputs": [
    {
     "name": "stdout",
     "output_type": "stream",
     "text": [
      "tensor([[[1., 1.],\n",
      "         [2., 2.]],\n",
      "\n",
      "        [[5., 5.],\n",
      "         [6., 6.]]])\n"
     ]
    }
   ],
   "source": [
    "indice=torch.LongTensor([0,2])\n",
    "\n",
    "y=x.index_select(dim=0, index=indice)\n",
    "print(y)"
   ]
  },
  {
   "cell_type": "code",
   "execution_count": 99,
   "metadata": {},
   "outputs": [
    {
     "name": "stdout",
     "output_type": "stream",
     "text": [
      "tensor([[ 1.,  2.,  3.],\n",
      "        [ 4.,  5.,  6.],\n",
      "        [ 7.,  8.,  9.],\n",
      "        [11., 12., 13.],\n",
      "        [14., 15., 16.],\n",
      "        [17., 18., 19.]])\n",
      "torch.Size([6, 3])\n",
      "tensor([[ 1.,  2.,  3., 11., 12., 13.],\n",
      "        [ 4.,  5.,  6., 14., 15., 16.],\n",
      "        [ 7.,  8.,  9., 17., 18., 19.]])\n",
      "torch.Size([3, 6])\n"
     ]
    }
   ],
   "source": [
    "x=torch.FloatTensor([[1,2,3],[4,5,6],[7,8,9]])\n",
    "y=torch.FloatTensor([[11,12,13],[14,15,16],[17,18,19]])\n",
    "z=torch.cat([x,y], dim=0)\n",
    "print(z)\n",
    "print(z.size())\n",
    "z1=torch.cat([x,y], dim=-1)\n",
    "print(z1)\n",
    "print(z1.size())"
   ]
  },
  {
   "cell_type": "code",
   "execution_count": 104,
   "metadata": {},
   "outputs": [
    {
     "name": "stdout",
     "output_type": "stream",
     "text": [
      "tensor([[[ 1,  2,  3,  4]],\n",
      "\n",
      "        [[ 5,  6,  7,  8]],\n",
      "\n",
      "        [[ 9, 10, 11, 12]]], dtype=torch.int32)\n",
      "tensor([[[ 1,  2,  3,  4],\n",
      "         [ 1,  2,  3,  4]],\n",
      "\n",
      "        [[ 5,  6,  7,  8],\n",
      "         [ 5,  6,  7,  8]],\n",
      "\n",
      "        [[ 9, 10, 11, 12],\n",
      "         [ 9, 10, 11, 12]]], dtype=torch.int32)\n"
     ]
    }
   ],
   "source": [
    "a=np.arange(1,13)\n",
    "x=torch.from_numpy(a).view(3,1,4)\n",
    "y=x.expand(3,2,4)\n",
    "print(x)\n",
    "print(y)"
   ]
  },
  {
   "cell_type": "code",
   "execution_count": 107,
   "metadata": {},
   "outputs": [
    {
     "name": "stdout",
     "output_type": "stream",
     "text": [
      "tensor([[[26, 25,  2],\n",
      "         [ 5, 24,  9],\n",
      "         [ 1, 19,  8]],\n",
      "\n",
      "        [[12, 13,  7],\n",
      "         [10, 20, 16],\n",
      "         [ 6, 15,  3]],\n",
      "\n",
      "        [[21,  4, 11],\n",
      "         [18, 14, 22],\n",
      "         [ 0, 17, 23]]])\n"
     ]
    }
   ],
   "source": [
    "x=torch.randperm(3**3).view(3,3,-1)\n",
    "print(x)"
   ]
  },
  {
   "cell_type": "code",
   "execution_count": 109,
   "metadata": {},
   "outputs": [
    {
     "name": "stdout",
     "output_type": "stream",
     "text": [
      "tensor([[0, 0, 2],\n",
      "        [2, 0, 2],\n",
      "        [1, 0, 2]])\n"
     ]
    }
   ],
   "source": [
    "y=x.argmax(dim=0)\n",
    "print(y)"
   ]
  },
  {
   "cell_type": "code",
   "execution_count": 110,
   "metadata": {},
   "outputs": [
    {
     "name": "stdout",
     "output_type": "stream",
     "text": [
      "tensor([[0, 0, 1],\n",
      "        [0, 1, 1],\n",
      "        [0, 2, 2]])\n"
     ]
    }
   ],
   "source": [
    "y=x.argmax(dim=1)\n",
    "print(y)"
   ]
  },
  {
   "cell_type": "code",
   "execution_count": 111,
   "metadata": {},
   "outputs": [
    {
     "name": "stdout",
     "output_type": "stream",
     "text": [
      "tensor([[0, 1, 1],\n",
      "        [1, 1, 1],\n",
      "        [0, 2, 2]])\n"
     ]
    }
   ],
   "source": [
    "y=x.argmax(dim=-1)\n",
    "print(y)"
   ]
  },
  {
   "cell_type": "code",
   "execution_count": 112,
   "metadata": {},
   "outputs": [
    {
     "data": {
      "text/plain": [
       "tensor([[[26, 25,  2],\n",
       "         [ 5, 24,  9],\n",
       "         [ 1, 19,  8]],\n",
       "\n",
       "        [[12, 13,  7],\n",
       "         [10, 20, 16],\n",
       "         [ 6, 15,  3]],\n",
       "\n",
       "        [[21,  4, 11],\n",
       "         [18, 14, 22],\n",
       "         [ 0, 17, 23]]])"
      ]
     },
     "execution_count": 112,
     "metadata": {},
     "output_type": "execute_result"
    }
   ],
   "source": [
    "x"
   ]
  },
  {
   "cell_type": "code",
   "execution_count": 117,
   "metadata": {},
   "outputs": [
    {
     "name": "stdout",
     "output_type": "stream",
     "text": [
      "tensor([[[26, 25,  2],\n",
      "         [24,  9,  5],\n",
      "         [19,  8,  1]],\n",
      "\n",
      "        [[13, 12,  7],\n",
      "         [20, 16, 10],\n",
      "         [15,  6,  3]],\n",
      "\n",
      "        [[21, 11,  4],\n",
      "         [22, 18, 14],\n",
      "         [23, 17,  0]]])\n",
      "tensor([[[0, 1, 2],\n",
      "         [1, 2, 0],\n",
      "         [1, 2, 0]],\n",
      "\n",
      "        [[1, 0, 2],\n",
      "         [1, 2, 0],\n",
      "         [1, 0, 2]],\n",
      "\n",
      "        [[0, 2, 1],\n",
      "         [2, 0, 1],\n",
      "         [2, 1, 0]]])\n"
     ]
    }
   ],
   "source": [
    "values, indices=torch.topk(x,k=3, dim=-1)\n",
    "print(values)\n",
    "print(indices)"
   ]
  },
  {
   "cell_type": "code",
   "execution_count": 122,
   "metadata": {},
   "outputs": [
    {
     "name": "stdout",
     "output_type": "stream",
     "text": [
      "tensor([[1., 2., 3.],\n",
      "        [4., 5., 6.],\n",
      "        [7., 8., 9.]])\n",
      "tensor([[False, False, False],\n",
      "        [False,  True,  True],\n",
      "        [ True,  True,  True]])\n",
      "tensor([[  1.,   2.,   3.],\n",
      "        [  4., 100., 100.],\n",
      "        [100., 100., 100.]])\n"
     ]
    }
   ],
   "source": [
    "x=torch.FloatTensor([i+1 for i in range(3**2)]).view(3,-1)\n",
    "print(x)\n",
    "mask=x>4\n",
    "print(mask)\n",
    "y=x.masked_fill(mask, value=100)\n",
    "print(y)"
   ]
  },
  {
   "cell_type": "code",
   "execution_count": 127,
   "metadata": {},
   "outputs": [
    {
     "name": "stdout",
     "output_type": "stream",
     "text": [
      "tensor([[1., 1., 1.],\n",
      "        [1., 1., 1.]])\n",
      "tensor([[0., 0., 0.],\n",
      "        [0., 0., 0.]])\n",
      "tensor([[1., 1., 1.],\n",
      "        [1., 1., 1.],\n",
      "        [1., 1., 1.]])\n",
      "tensor([[0., 0., 0.],\n",
      "        [0., 0., 0.],\n",
      "        [0., 0., 0.]])\n"
     ]
    }
   ],
   "source": [
    "print(torch.ones(2,3))\n",
    "print(torch.zeros(2,3))\n",
    "\n",
    "print(torch.ones_like(x))\n",
    "print(torch.zeros_like(x))"
   ]
  }
 ],
 "metadata": {
  "kernelspec": {
   "display_name": "base",
   "language": "python",
   "name": "python3"
  },
  "language_info": {
   "codemirror_mode": {
    "name": "ipython",
    "version": 3
   },
   "file_extension": ".py",
   "mimetype": "text/x-python",
   "name": "python",
   "nbconvert_exporter": "python",
   "pygments_lexer": "ipython3",
   "version": "3.10.9"
  },
  "orig_nbformat": 4
 },
 "nbformat": 4,
 "nbformat_minor": 2
}
